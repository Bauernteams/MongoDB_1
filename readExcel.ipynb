{
 "cells": [
  {
   "cell_type": "code",
   "execution_count": 2,
   "metadata": {},
   "outputs": [],
   "source": [
    "import pandas as pd\n",
    "from os import path"
   ]
  },
  {
   "cell_type": "code",
   "execution_count": 3,
   "metadata": {},
   "outputs": [],
   "source": [
    "df = pd.read_excel (r'sharedData\\200824_Testplan.xlsx', sheet_name='Durchgeführte Messungen')\n",
    "dfDict = df.to_dict(\"records\")"
   ]
  },
  {
   "cell_type": "code",
   "execution_count": 4,
   "metadata": {},
   "outputs": [
    {
     "data": {
      "text/plain": [
       "<pymongo.results.InsertManyResult at 0x1e053693f00>"
      ]
     },
     "execution_count": 4,
     "metadata": {},
     "output_type": "execute_result"
    }
   ],
   "source": [
    "from mongoTools import connectMongoDB\n",
    "db = connectMongoDB(True)\n",
    "db[\"Testplan\"].insert_many(dfDict)"
   ]
  },
  {
   "cell_type": "code",
   "execution_count": 7,
   "metadata": {},
   "outputs": [
    {
     "ename": "ValueError",
     "evalue": "time data 'vermutlikh: Rekorder_2020_09_03_08_25_35' does not match format 'Rekorder_%Y_%m_%d_%H_%M_%S'",
     "output_type": "error",
     "traceback": [
      "\u001b[1;31m---------------------------------------------------------------------------\u001b[0m",
      "\u001b[1;31mValueError\u001b[0m                                Traceback (most recent call last)",
      "\u001b[1;32mc:\\Users\\broll\\OneDrive - ZF Friedrichshafen AG\\Documents\\Programming\\MongoDB_1\\readExcel.ipynb Cell 4'\u001b[0m in \u001b[0;36m<cell line: 6>\u001b[1;34m()\u001b[0m\n\u001b[0;32m      <a href='vscode-notebook-cell:/c%3A/Users/broll/OneDrive%20-%20ZF%20Friedrichshafen%20AG/Documents/Programming/MongoDB_1/readExcel.ipynb#ch0000003?line=7'>8</a>\u001b[0m f \u001b[39m=\u001b[39m f\u001b[39m.\u001b[39mreplace(\u001b[39m\"\u001b[39m\u001b[39mc\u001b[39m\u001b[39m\"\u001b[39m, \u001b[39m\"\u001b[39m\u001b[39mk\u001b[39m\u001b[39m\"\u001b[39m)\n\u001b[0;32m      <a href='vscode-notebook-cell:/c%3A/Users/broll/OneDrive%20-%20ZF%20Friedrichshafen%20AG/Documents/Programming/MongoDB_1/readExcel.ipynb#ch0000003?line=8'>9</a>\u001b[0m \u001b[39mif\u001b[39;00m \u001b[39m\"\u001b[39m\u001b[39mRe\u001b[39m\u001b[39m\"\u001b[39m \u001b[39min\u001b[39;00m f:\n\u001b[1;32m---> <a href='vscode-notebook-cell:/c%3A/Users/broll/OneDrive%20-%20ZF%20Friedrichshafen%20AG/Documents/Programming/MongoDB_1/readExcel.ipynb#ch0000003?line=9'>10</a>\u001b[0m     timestamp \u001b[39m=\u001b[39m convertTime(f)\u001b[39m*\u001b[39mTIMESTAMPFACTOR\n\u001b[0;32m     <a href='vscode-notebook-cell:/c%3A/Users/broll/OneDrive%20-%20ZF%20Friedrichshafen%20AG/Documents/Programming/MongoDB_1/readExcel.ipynb#ch0000003?line=10'>11</a>\u001b[0m \u001b[39melse\u001b[39;00m:        \n\u001b[0;32m     <a href='vscode-notebook-cell:/c%3A/Users/broll/OneDrive%20-%20ZF%20Friedrichshafen%20AG/Documents/Programming/MongoDB_1/readExcel.ipynb#ch0000003?line=11'>12</a>\u001b[0m     timestamp \u001b[39m=\u001b[39m time\u001b[39m.\u001b[39mmktime(datetime\u001b[39m.\u001b[39mdatetime\u001b[39m.\u001b[39mstrptime(f,\n\u001b[0;32m     <a href='vscode-notebook-cell:/c%3A/Users/broll/OneDrive%20-%20ZF%20Friedrichshafen%20AG/Documents/Programming/MongoDB_1/readExcel.ipynb#ch0000003?line=12'>13</a>\u001b[0m                                             \u001b[39m\"\u001b[39m\u001b[39m%d\u001b[39;00m\u001b[39m.\u001b[39m\u001b[39m%\u001b[39m\u001b[39mm.\u001b[39m\u001b[39m%\u001b[39m\u001b[39mY_\u001b[39m\u001b[39m%\u001b[39m\u001b[39mH_\u001b[39m\u001b[39m%\u001b[39m\u001b[39mM\u001b[39m\u001b[39m\"\u001b[39m)\u001b[39m.\u001b[39mtimetuple())\u001b[39m*\u001b[39mTIMESTAMPFACTOR\n",
      "File \u001b[1;32mc:\\Users\\broll\\OneDrive - ZF Friedrichshafen AG\\Documents\\Programming\\MongoDB_1\\InFusionTools.py:12\u001b[0m, in \u001b[0;36mconvertTime\u001b[1;34m(s_DateTime)\u001b[0m\n\u001b[0;32m      <a href='file:///c%3A/Users/broll/OneDrive%20-%20ZF%20Friedrichshafen%20AG/Documents/Programming/MongoDB_1/InFusionTools.py?line=8'>9</a>\u001b[0m     \u001b[39mimport\u001b[39;00m \u001b[39mos\u001b[39;00m\n\u001b[0;32m     <a href='file:///c%3A/Users/broll/OneDrive%20-%20ZF%20Friedrichshafen%20AG/Documents/Programming/MongoDB_1/InFusionTools.py?line=9'>10</a>\u001b[0m     string \u001b[39m=\u001b[39m string\u001b[39m.\u001b[39mreplace(\u001b[39m\"\u001b[39m\u001b[39mc\u001b[39m\u001b[39m\"\u001b[39m, \u001b[39m\"\u001b[39m\u001b[39mk\u001b[39m\u001b[39m\"\u001b[39m)\n\u001b[1;32m---> <a href='file:///c%3A/Users/broll/OneDrive%20-%20ZF%20Friedrichshafen%20AG/Documents/Programming/MongoDB_1/InFusionTools.py?line=11'>12</a>\u001b[0m ret \u001b[39m=\u001b[39m time\u001b[39m.\u001b[39mmktime(datetime\u001b[39m.\u001b[39;49mdatetime\u001b[39m.\u001b[39;49mstrptime(string,\n\u001b[0;32m     <a href='file:///c%3A/Users/broll/OneDrive%20-%20ZF%20Friedrichshafen%20AG/Documents/Programming/MongoDB_1/InFusionTools.py?line=12'>13</a>\u001b[0m                                             \u001b[39m\"\u001b[39;49m\u001b[39mRekorder_\u001b[39;49m\u001b[39m%\u001b[39;49m\u001b[39mY_\u001b[39;49m\u001b[39m%\u001b[39;49m\u001b[39mm_\u001b[39;49m\u001b[39m%d\u001b[39;49;00m\u001b[39m_\u001b[39;49m\u001b[39m%\u001b[39;49m\u001b[39mH_\u001b[39;49m\u001b[39m%\u001b[39;49m\u001b[39mM_\u001b[39;49m\u001b[39m%\u001b[39;49m\u001b[39mS\u001b[39;49m\u001b[39m\"\u001b[39;49m)\u001b[39m.\u001b[39mtimetuple())\n\u001b[0;32m     <a href='file:///c%3A/Users/broll/OneDrive%20-%20ZF%20Friedrichshafen%20AG/Documents/Programming/MongoDB_1/InFusionTools.py?line=13'>14</a>\u001b[0m \u001b[39m#print(ret)\u001b[39;00m\n\u001b[0;32m     <a href='file:///c%3A/Users/broll/OneDrive%20-%20ZF%20Friedrichshafen%20AG/Documents/Programming/MongoDB_1/InFusionTools.py?line=14'>15</a>\u001b[0m \u001b[39mreturn\u001b[39;00m ret\n",
      "File \u001b[1;32m~\\AppData\\Local\\Programs\\Python\\Python310\\lib\\_strptime.py:568\u001b[0m, in \u001b[0;36m_strptime_datetime\u001b[1;34m(cls, data_string, format)\u001b[0m\n\u001b[0;32m    <a href='file:///c%3A/Users/broll/AppData/Local/Programs/Python/Python310/lib/_strptime.py?line=564'>565</a>\u001b[0m \u001b[39mdef\u001b[39;00m \u001b[39m_strptime_datetime\u001b[39m(\u001b[39mcls\u001b[39m, data_string, \u001b[39mformat\u001b[39m\u001b[39m=\u001b[39m\u001b[39m\"\u001b[39m\u001b[39m%a\u001b[39;00m\u001b[39m \u001b[39m\u001b[39m%\u001b[39m\u001b[39mb \u001b[39m\u001b[39m%d\u001b[39;00m\u001b[39m \u001b[39m\u001b[39m%\u001b[39m\u001b[39mH:\u001b[39m\u001b[39m%\u001b[39m\u001b[39mM:\u001b[39m\u001b[39m%\u001b[39m\u001b[39mS \u001b[39m\u001b[39m%\u001b[39m\u001b[39mY\u001b[39m\u001b[39m\"\u001b[39m):\n\u001b[0;32m    <a href='file:///c%3A/Users/broll/AppData/Local/Programs/Python/Python310/lib/_strptime.py?line=565'>566</a>\u001b[0m     \u001b[39m\"\"\"Return a class cls instance based on the input string and the\u001b[39;00m\n\u001b[0;32m    <a href='file:///c%3A/Users/broll/AppData/Local/Programs/Python/Python310/lib/_strptime.py?line=566'>567</a>\u001b[0m \u001b[39m    format string.\"\"\"\u001b[39;00m\n\u001b[1;32m--> <a href='file:///c%3A/Users/broll/AppData/Local/Programs/Python/Python310/lib/_strptime.py?line=567'>568</a>\u001b[0m     tt, fraction, gmtoff_fraction \u001b[39m=\u001b[39m _strptime(data_string, \u001b[39mformat\u001b[39;49m)\n\u001b[0;32m    <a href='file:///c%3A/Users/broll/AppData/Local/Programs/Python/Python310/lib/_strptime.py?line=568'>569</a>\u001b[0m     tzname, gmtoff \u001b[39m=\u001b[39m tt[\u001b[39m-\u001b[39m\u001b[39m2\u001b[39m:]\n\u001b[0;32m    <a href='file:///c%3A/Users/broll/AppData/Local/Programs/Python/Python310/lib/_strptime.py?line=569'>570</a>\u001b[0m     args \u001b[39m=\u001b[39m tt[:\u001b[39m6\u001b[39m] \u001b[39m+\u001b[39m (fraction,)\n",
      "File \u001b[1;32m~\\AppData\\Local\\Programs\\Python\\Python310\\lib\\_strptime.py:349\u001b[0m, in \u001b[0;36m_strptime\u001b[1;34m(data_string, format)\u001b[0m\n\u001b[0;32m    <a href='file:///c%3A/Users/broll/AppData/Local/Programs/Python/Python310/lib/_strptime.py?line=346'>347</a>\u001b[0m found \u001b[39m=\u001b[39m format_regex\u001b[39m.\u001b[39mmatch(data_string)\n\u001b[0;32m    <a href='file:///c%3A/Users/broll/AppData/Local/Programs/Python/Python310/lib/_strptime.py?line=347'>348</a>\u001b[0m \u001b[39mif\u001b[39;00m \u001b[39mnot\u001b[39;00m found:\n\u001b[1;32m--> <a href='file:///c%3A/Users/broll/AppData/Local/Programs/Python/Python310/lib/_strptime.py?line=348'>349</a>\u001b[0m     \u001b[39mraise\u001b[39;00m \u001b[39mValueError\u001b[39;00m(\u001b[39m\"\u001b[39m\u001b[39mtime data \u001b[39m\u001b[39m%r\u001b[39;00m\u001b[39m does not match format \u001b[39m\u001b[39m%r\u001b[39;00m\u001b[39m\"\u001b[39m \u001b[39m%\u001b[39m\n\u001b[0;32m    <a href='file:///c%3A/Users/broll/AppData/Local/Programs/Python/Python310/lib/_strptime.py?line=349'>350</a>\u001b[0m                      (data_string, \u001b[39mformat\u001b[39m))\n\u001b[0;32m    <a href='file:///c%3A/Users/broll/AppData/Local/Programs/Python/Python310/lib/_strptime.py?line=350'>351</a>\u001b[0m \u001b[39mif\u001b[39;00m \u001b[39mlen\u001b[39m(data_string) \u001b[39m!=\u001b[39m found\u001b[39m.\u001b[39mend():\n\u001b[0;32m    <a href='file:///c%3A/Users/broll/AppData/Local/Programs/Python/Python310/lib/_strptime.py?line=351'>352</a>\u001b[0m     \u001b[39mraise\u001b[39;00m \u001b[39mValueError\u001b[39;00m(\u001b[39m\"\u001b[39m\u001b[39munconverted data remains: \u001b[39m\u001b[39m%s\u001b[39;00m\u001b[39m\"\u001b[39m \u001b[39m%\u001b[39m\n\u001b[0;32m    <a href='file:///c%3A/Users/broll/AppData/Local/Programs/Python/Python310/lib/_strptime.py?line=352'>353</a>\u001b[0m                       data_string[found\u001b[39m.\u001b[39mend():])\n",
      "\u001b[1;31mValueError\u001b[0m: time data 'vermutlikh: Rekorder_2020_09_03_08_25_35' does not match format 'Rekorder_%Y_%m_%d_%H_%M_%S'"
     ]
    }
   ],
   "source": [
    "from InFusionTools import convertTime, TIMESTAMPFACTOR\n",
    "import time\n",
    "import datetime\n",
    "\n",
    "dfTestplan = pd.DataFrame(list(db[\"Testplan\"].find()))\n",
    "for f in dfTestplan[\"Filename\"]:\n",
    "    f = f.replace(\"-\", \"_\")\n",
    "    f = f.replace(\"c\", \"k\")\n",
    "    if \"vermutlich:\" in f:\n",
    "        f = f.replace(\"vermutlich: \", \"\")\n",
    "    if \"Re\" in f:\n",
    "        timestamp = convertTime(f)*TIMESTAMPFACTOR\n",
    "\n",
    "    else:        \n",
    "        timestamp = time.mktime(datetime.datetime.strptime(f,\n",
    "                                                \"%d.%m.%Y_%H_%M\").timetuple())*TIMESTAMPFACTOR\n",
    "    dfTestplan[\"StartID\"] = timestamp"
   ]
  }
 ],
 "metadata": {
  "interpreter": {
   "hash": "d06e63a7861b3c8743ae71dd184ea72022cc2e9602d1c78c2128b82997df0244"
  },
  "kernelspec": {
   "display_name": "Python 3.10.2 64-bit",
   "language": "python",
   "name": "python3"
  },
  "language_info": {
   "codemirror_mode": {
    "name": "ipython",
    "version": 3
   },
   "file_extension": ".py",
   "mimetype": "text/x-python",
   "name": "python",
   "nbconvert_exporter": "python",
   "pygments_lexer": "ipython3",
   "version": "3.10.2"
  },
  "orig_nbformat": 4
 },
 "nbformat": 4,
 "nbformat_minor": 2
}

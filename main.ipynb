{
 "cells": [
  {
   "cell_type": "code",
   "execution_count": 1,
   "metadata": {},
   "outputs": [],
   "source": [
    "from InFusionTools import getMongoMessage\n",
    "import mongoTools\n",
    "from os import path"
   ]
  },
  {
   "cell_type": "code",
   "execution_count": null,
   "metadata": {},
   "outputs": [],
   "source": [
    "#s_folder = r'C:\\Users\\broll\\ZF Friedrichshafen AG\\33658 InFusion - Documents\\Grunddatenerhebung\\07 Winterversuche\\Data\\Messungen\\extracted' \n",
    "s_folder = r'C:\\Users\\broll\\ZF Friedrichshafen AG\\33658 InFusion - Documents\\Grunddatenerhebung\\04 Data\\20210802\\extracted' \n",
    "\n",
    "import os\n",
    "ls_fileNames = os.listdir(s_folder)\n",
    "\n",
    "from multiprocessing import Process, Lock\n",
    "my_lock = Lock()\n",
    "for s_fileName in ls_fileNames:\n",
    "    currentFile = path.join(s_folder, s_fileName)\n",
    "    #print(currentFile)\n",
    "    p_files = Process(target=mongoTools.mongoUploadFileMulti, args=(my_lock, currentFile, None, None, \"CAN3\", []))\n",
    "    p_files.start()\n",
    "p_files.join()"
   ]
  },
  {
   "cell_type": "code",
   "execution_count": 2,
   "metadata": {},
   "outputs": [
    {
     "name": "stdout",
     "output_type": "stream",
     "text": [
      "Loading:  C:\\Users\\broll\\ZF Friedrichshafen AG\\33658 InFusion - Documents\\Grunddatenerhebung\\04 Data\\20210802\\extracted\\Recorder_2021_08_02_08_14_23.mat\n",
      "Loading:  C:\\Users\\broll\\ZF Friedrichshafen AG\\33658 InFusion - Documents\\Grunddatenerhebung\\04 Data\\20210802\\extracted\\Recorder_2021_08_02_08_30_43.mat\n",
      "Loading:  C:\\Users\\broll\\ZF Friedrichshafen AG\\33658 InFusion - Documents\\Grunddatenerhebung\\04 Data\\20210802\\extracted\\Recorder_2021_08_02_08_32_40.mat\n",
      "Loading:  C:\\Users\\broll\\ZF Friedrichshafen AG\\33658 InFusion - Documents\\Grunddatenerhebung\\04 Data\\20210802\\extracted\\Recorder_2021_08_02_08_35_18.mat\n",
      "Loading:  C:\\Users\\broll\\ZF Friedrichshafen AG\\33658 InFusion - Documents\\Grunddatenerhebung\\04 Data\\20210802\\extracted\\Recorder_2021_08_02_08_37_20.mat\n",
      "Loading:  C:\\Users\\broll\\ZF Friedrichshafen AG\\33658 InFusion - Documents\\Grunddatenerhebung\\04 Data\\20210802\\extracted\\Recorder_2021_08_02_08_40_07.mat\n",
      "Loading:  C:\\Users\\broll\\ZF Friedrichshafen AG\\33658 InFusion - Documents\\Grunddatenerhebung\\04 Data\\20210802\\extracted\\Recorder_2021_08_02_08_42_31.mat\n",
      "Loading:  C:\\Users\\broll\\ZF Friedrichshafen AG\\33658 InFusion - Documents\\Grunddatenerhebung\\04 Data\\20210802\\extracted\\Recorder_2021_08_02_08_44_43.mat\n",
      "Loading:  C:\\Users\\broll\\ZF Friedrichshafen AG\\33658 InFusion - Documents\\Grunddatenerhebung\\04 Data\\20210802\\extracted\\Recorder_2021_08_02_08_46_16.mat\n",
      "Loading:  C:\\Users\\broll\\ZF Friedrichshafen AG\\33658 InFusion - Documents\\Grunddatenerhebung\\04 Data\\20210802\\extracted\\Recorder_2021_08_02_08_48_27.mat\n",
      "Loading:  C:\\Users\\broll\\ZF Friedrichshafen AG\\33658 InFusion - Documents\\Grunddatenerhebung\\04 Data\\20210802\\extracted\\Recorder_2021_08_02_08_50_30.mat\n",
      "Loading:  C:\\Users\\broll\\ZF Friedrichshafen AG\\33658 InFusion - Documents\\Grunddatenerhebung\\04 Data\\20210802\\extracted\\Recorder_2021_08_02_08_52_15.mat\n",
      "Loading:  C:\\Users\\broll\\ZF Friedrichshafen AG\\33658 InFusion - Documents\\Grunddatenerhebung\\04 Data\\20210802\\extracted\\Recorder_2021_08_02_08_54_02.mat\n",
      "Loading:  C:\\Users\\broll\\ZF Friedrichshafen AG\\33658 InFusion - Documents\\Grunddatenerhebung\\04 Data\\20210802\\extracted\\Recorder_2021_08_02_08_56_03.mat\n",
      "Loading:  C:\\Users\\broll\\ZF Friedrichshafen AG\\33658 InFusion - Documents\\Grunddatenerhebung\\04 Data\\20210802\\extracted\\Recorder_2021_08_02_08_57_38.mat\n",
      "Loading:  C:\\Users\\broll\\ZF Friedrichshafen AG\\33658 InFusion - Documents\\Grunddatenerhebung\\04 Data\\20210802\\extracted\\Recorder_2021_08_02_08_59_35.mat\n",
      "Loading:  C:\\Users\\broll\\ZF Friedrichshafen AG\\33658 InFusion - Documents\\Grunddatenerhebung\\04 Data\\20210802\\extracted\\Recorder_2021_08_02_09_04_16.mat\n",
      "Loading:  C:\\Users\\broll\\ZF Friedrichshafen AG\\33658 InFusion - Documents\\Grunddatenerhebung\\04 Data\\20210802\\extracted\\Recorder_2021_08_02_09_07_06.mat\n",
      "Loading:  C:\\Users\\broll\\ZF Friedrichshafen AG\\33658 InFusion - Documents\\Grunddatenerhebung\\04 Data\\20210802\\extracted\\Recorder_2021_08_02_09_10_12.mat\n",
      "Loading:  C:\\Users\\broll\\ZF Friedrichshafen AG\\33658 InFusion - Documents\\Grunddatenerhebung\\04 Data\\20210802\\extracted\\Recorder_2021_08_02_09_13_13.mat\n",
      "Loading:  C:\\Users\\broll\\ZF Friedrichshafen AG\\33658 InFusion - Documents\\Grunddatenerhebung\\04 Data\\20210802\\extracted\\Recorder_2021_08_02_09_16_07.mat\n",
      "Loading:  C:\\Users\\broll\\ZF Friedrichshafen AG\\33658 InFusion - Documents\\Grunddatenerhebung\\04 Data\\20210802\\extracted\\Recorder_2021_08_02_09_18_40.mat\n",
      "Loading:  C:\\Users\\broll\\ZF Friedrichshafen AG\\33658 InFusion - Documents\\Grunddatenerhebung\\04 Data\\20210802\\extracted\\Recorder_2021_08_02_09_21_53.mat\n",
      "Loading:  C:\\Users\\broll\\ZF Friedrichshafen AG\\33658 InFusion - Documents\\Grunddatenerhebung\\04 Data\\20210802\\extracted\\Recorder_2021_08_02_09_24_08.mat\n",
      "Loading:  C:\\Users\\broll\\ZF Friedrichshafen AG\\33658 InFusion - Documents\\Grunddatenerhebung\\04 Data\\20210802\\extracted\\Recorder_2021_08_02_09_25_35.mat\n",
      "Loading:  C:\\Users\\broll\\ZF Friedrichshafen AG\\33658 InFusion - Documents\\Grunddatenerhebung\\04 Data\\20210802\\extracted\\Recorder_2021_08_02_09_30_11.mat\n",
      "Loading:  C:\\Users\\broll\\ZF Friedrichshafen AG\\33658 InFusion - Documents\\Grunddatenerhebung\\04 Data\\20210802\\extracted\\Recorder_2021_08_02_09_31_16.mat\n",
      "Loading:  C:\\Users\\broll\\ZF Friedrichshafen AG\\33658 InFusion - Documents\\Grunddatenerhebung\\04 Data\\20210802\\extracted\\Recorder_2021_08_02_09_32_05.mat\n",
      "Loading:  C:\\Users\\broll\\ZF Friedrichshafen AG\\33658 InFusion - Documents\\Grunddatenerhebung\\04 Data\\20210802\\extracted\\Recorder_2021_08_02_09_32_55.mat\n",
      "Loading:  C:\\Users\\broll\\ZF Friedrichshafen AG\\33658 InFusion - Documents\\Grunddatenerhebung\\04 Data\\20210802\\extracted\\Recorder_2021_08_02_09_33_43.mat\n",
      "Loading:  C:\\Users\\broll\\ZF Friedrichshafen AG\\33658 InFusion - Documents\\Grunddatenerhebung\\04 Data\\20210802\\extracted\\Recorder_2021_08_02_09_34_35.mat\n",
      "Loading:  C:\\Users\\broll\\ZF Friedrichshafen AG\\33658 InFusion - Documents\\Grunddatenerhebung\\04 Data\\20210802\\extracted\\Recorder_2021_08_02_09_36_55.mat\n",
      "Loading:  C:\\Users\\broll\\ZF Friedrichshafen AG\\33658 InFusion - Documents\\Grunddatenerhebung\\04 Data\\20210802\\extracted\\Recorder_2021_08_02_09_38_47.mat\n",
      "Loading:  C:\\Users\\broll\\ZF Friedrichshafen AG\\33658 InFusion - Documents\\Grunddatenerhebung\\04 Data\\20210802\\extracted\\Recorder_2021_08_02_09_40_29.mat\n",
      "Loading:  C:\\Users\\broll\\ZF Friedrichshafen AG\\33658 InFusion - Documents\\Grunddatenerhebung\\04 Data\\20210802\\extracted\\Recorder_2021_08_02_09_44_03.mat\n",
      "Loading:  C:\\Users\\broll\\ZF Friedrichshafen AG\\33658 InFusion - Documents\\Grunddatenerhebung\\04 Data\\20210802\\extracted\\Recorder_2021_08_02_09_46_26.mat\n",
      "Loading:  C:\\Users\\broll\\ZF Friedrichshafen AG\\33658 InFusion - Documents\\Grunddatenerhebung\\04 Data\\20210802\\extracted\\Recorder_2021_08_02_09_48_38.mat\n",
      "Loading:  C:\\Users\\broll\\ZF Friedrichshafen AG\\33658 InFusion - Documents\\Grunddatenerhebung\\04 Data\\20210802\\extracted\\Recorder_2021_08_02_09_50_35.mat\n",
      "Loading:  C:\\Users\\broll\\ZF Friedrichshafen AG\\33658 InFusion - Documents\\Grunddatenerhebung\\04 Data\\20210802\\extracted\\Recorder_2021_08_02_09_53_11.mat\n"
     ]
    },
    {
     "ename": "KeyboardInterrupt",
     "evalue": "",
     "output_type": "error",
     "traceback": [
      "\u001b[1;31m---------------------------------------------------------------------------\u001b[0m",
      "\u001b[1;31mKeyboardInterrupt\u001b[0m                         Traceback (most recent call last)",
      "\u001b[1;32mc:\\Users\\broll\\OneDrive - ZF Friedrichshafen AG\\Documents\\Programming\\MongoDB_1\\main.ipynb Cell 3'\u001b[0m in \u001b[0;36m<cell line: 6>\u001b[1;34m()\u001b[0m\n\u001b[0;32m      <a href='vscode-notebook-cell:/c%3A/Users/broll/OneDrive%20-%20ZF%20Friedrichshafen%20AG/Documents/Programming/MongoDB_1/main.ipynb#ch0000002?line=5'>6</a>\u001b[0m \u001b[39mfor\u001b[39;00m s_fileName \u001b[39min\u001b[39;00m ls_fileNames:\n\u001b[0;32m      <a href='vscode-notebook-cell:/c%3A/Users/broll/OneDrive%20-%20ZF%20Friedrichshafen%20AG/Documents/Programming/MongoDB_1/main.ipynb#ch0000002?line=6'>7</a>\u001b[0m     currentFile \u001b[39m=\u001b[39m path\u001b[39m.\u001b[39mjoin(s_folder, s_fileName)\n\u001b[1;32m----> <a href='vscode-notebook-cell:/c%3A/Users/broll/OneDrive%20-%20ZF%20Friedrichshafen%20AG/Documents/Programming/MongoDB_1/main.ipynb#ch0000002?line=7'>8</a>\u001b[0m     mongoTools\u001b[39m.\u001b[39;49mmongoUploadFileMulti2(currentFile, \u001b[39mNone\u001b[39;49;00m, \u001b[39mNone\u001b[39;49;00m, \u001b[39mNone\u001b[39;49;00m, [\u001b[39m\"\u001b[39;49m\u001b[39mDAIO\u001b[39;49m\u001b[39m\"\u001b[39;49m])\n",
      "File \u001b[1;32mc:\\Users\\broll\\OneDrive - ZF Friedrichshafen AG\\Documents\\Programming\\MongoDB_1\\mongoTools.py:232\u001b[0m, in \u001b[0;36mmongoUploadFileMulti2\u001b[1;34m(s_filePath, ls_SignalWL, ls_MessageWL, ls_ChannelWL, ls_ChannelBL)\u001b[0m\n\u001b[0;32m    <a href='file:///c%3A/Users/broll/OneDrive%20-%20ZF%20Friedrichshafen%20AG/Documents/Programming/MongoDB_1/mongoTools.py?line=229'>230</a>\u001b[0m \u001b[39mfor\u001b[39;00m ii, message \u001b[39min\u001b[39;00m \u001b[39menumerate\u001b[39m(matFile[channel][\u001b[39m0\u001b[39m][\u001b[39m0\u001b[39m]\u001b[39m.\u001b[39mdtype\u001b[39m.\u001b[39mfields\u001b[39m.\u001b[39mkeys()):\n\u001b[0;32m    <a href='file:///c%3A/Users/broll/OneDrive%20-%20ZF%20Friedrichshafen%20AG/Documents/Programming/MongoDB_1/mongoTools.py?line=230'>231</a>\u001b[0m     p_files \u001b[39m=\u001b[39m Process(target\u001b[39m=\u001b[39muploadMesage, args\u001b[39m=\u001b[39m(message, matFile, channel, my_lock, ls_MessageWL, ls_SignalWL, t0))\n\u001b[1;32m--> <a href='file:///c%3A/Users/broll/OneDrive%20-%20ZF%20Friedrichshafen%20AG/Documents/Programming/MongoDB_1/mongoTools.py?line=231'>232</a>\u001b[0m     p_files\u001b[39m.\u001b[39;49mstart()\n\u001b[0;32m    <a href='file:///c%3A/Users/broll/OneDrive%20-%20ZF%20Friedrichshafen%20AG/Documents/Programming/MongoDB_1/mongoTools.py?line=232'>233</a>\u001b[0m p_files\u001b[39m.\u001b[39mjoin()\n",
      "File \u001b[1;32m~\\AppData\\Local\\Programs\\Python\\Python310\\lib\\multiprocessing\\process.py:121\u001b[0m, in \u001b[0;36mBaseProcess.start\u001b[1;34m(self)\u001b[0m\n\u001b[0;32m    <a href='file:///c%3A/Users/broll/AppData/Local/Programs/Python/Python310/lib/multiprocessing/process.py?line=117'>118</a>\u001b[0m \u001b[39massert\u001b[39;00m \u001b[39mnot\u001b[39;00m _current_process\u001b[39m.\u001b[39m_config\u001b[39m.\u001b[39mget(\u001b[39m'\u001b[39m\u001b[39mdaemon\u001b[39m\u001b[39m'\u001b[39m), \\\n\u001b[0;32m    <a href='file:///c%3A/Users/broll/AppData/Local/Programs/Python/Python310/lib/multiprocessing/process.py?line=118'>119</a>\u001b[0m        \u001b[39m'\u001b[39m\u001b[39mdaemonic processes are not allowed to have children\u001b[39m\u001b[39m'\u001b[39m\n\u001b[0;32m    <a href='file:///c%3A/Users/broll/AppData/Local/Programs/Python/Python310/lib/multiprocessing/process.py?line=119'>120</a>\u001b[0m _cleanup()\n\u001b[1;32m--> <a href='file:///c%3A/Users/broll/AppData/Local/Programs/Python/Python310/lib/multiprocessing/process.py?line=120'>121</a>\u001b[0m \u001b[39mself\u001b[39m\u001b[39m.\u001b[39m_popen \u001b[39m=\u001b[39m \u001b[39mself\u001b[39;49m\u001b[39m.\u001b[39;49m_Popen(\u001b[39mself\u001b[39;49m)\n\u001b[0;32m    <a href='file:///c%3A/Users/broll/AppData/Local/Programs/Python/Python310/lib/multiprocessing/process.py?line=121'>122</a>\u001b[0m \u001b[39mself\u001b[39m\u001b[39m.\u001b[39m_sentinel \u001b[39m=\u001b[39m \u001b[39mself\u001b[39m\u001b[39m.\u001b[39m_popen\u001b[39m.\u001b[39msentinel\n\u001b[0;32m    <a href='file:///c%3A/Users/broll/AppData/Local/Programs/Python/Python310/lib/multiprocessing/process.py?line=122'>123</a>\u001b[0m \u001b[39m# Avoid a refcycle if the target function holds an indirect\u001b[39;00m\n\u001b[0;32m    <a href='file:///c%3A/Users/broll/AppData/Local/Programs/Python/Python310/lib/multiprocessing/process.py?line=123'>124</a>\u001b[0m \u001b[39m# reference to the process object (see bpo-30775)\u001b[39;00m\n",
      "File \u001b[1;32m~\\AppData\\Local\\Programs\\Python\\Python310\\lib\\multiprocessing\\context.py:224\u001b[0m, in \u001b[0;36mProcess._Popen\u001b[1;34m(process_obj)\u001b[0m\n\u001b[0;32m    <a href='file:///c%3A/Users/broll/AppData/Local/Programs/Python/Python310/lib/multiprocessing/context.py?line=221'>222</a>\u001b[0m \u001b[39m@staticmethod\u001b[39m\n\u001b[0;32m    <a href='file:///c%3A/Users/broll/AppData/Local/Programs/Python/Python310/lib/multiprocessing/context.py?line=222'>223</a>\u001b[0m \u001b[39mdef\u001b[39;00m \u001b[39m_Popen\u001b[39m(process_obj):\n\u001b[1;32m--> <a href='file:///c%3A/Users/broll/AppData/Local/Programs/Python/Python310/lib/multiprocessing/context.py?line=223'>224</a>\u001b[0m     \u001b[39mreturn\u001b[39;00m _default_context\u001b[39m.\u001b[39;49mget_context()\u001b[39m.\u001b[39;49mProcess\u001b[39m.\u001b[39;49m_Popen(process_obj)\n",
      "File \u001b[1;32m~\\AppData\\Local\\Programs\\Python\\Python310\\lib\\multiprocessing\\context.py:327\u001b[0m, in \u001b[0;36mSpawnProcess._Popen\u001b[1;34m(process_obj)\u001b[0m\n\u001b[0;32m    <a href='file:///c%3A/Users/broll/AppData/Local/Programs/Python/Python310/lib/multiprocessing/context.py?line=323'>324</a>\u001b[0m \u001b[39m@staticmethod\u001b[39m\n\u001b[0;32m    <a href='file:///c%3A/Users/broll/AppData/Local/Programs/Python/Python310/lib/multiprocessing/context.py?line=324'>325</a>\u001b[0m \u001b[39mdef\u001b[39;00m \u001b[39m_Popen\u001b[39m(process_obj):\n\u001b[0;32m    <a href='file:///c%3A/Users/broll/AppData/Local/Programs/Python/Python310/lib/multiprocessing/context.py?line=325'>326</a>\u001b[0m     \u001b[39mfrom\u001b[39;00m \u001b[39m.\u001b[39;00m\u001b[39mpopen_spawn_win32\u001b[39;00m \u001b[39mimport\u001b[39;00m Popen\n\u001b[1;32m--> <a href='file:///c%3A/Users/broll/AppData/Local/Programs/Python/Python310/lib/multiprocessing/context.py?line=326'>327</a>\u001b[0m     \u001b[39mreturn\u001b[39;00m Popen(process_obj)\n",
      "File \u001b[1;32m~\\AppData\\Local\\Programs\\Python\\Python310\\lib\\multiprocessing\\popen_spawn_win32.py:93\u001b[0m, in \u001b[0;36mPopen.__init__\u001b[1;34m(self, process_obj)\u001b[0m\n\u001b[0;32m     <a href='file:///c%3A/Users/broll/AppData/Local/Programs/Python/Python310/lib/multiprocessing/popen_spawn_win32.py?line=90'>91</a>\u001b[0m \u001b[39mtry\u001b[39;00m:\n\u001b[0;32m     <a href='file:///c%3A/Users/broll/AppData/Local/Programs/Python/Python310/lib/multiprocessing/popen_spawn_win32.py?line=91'>92</a>\u001b[0m     reduction\u001b[39m.\u001b[39mdump(prep_data, to_child)\n\u001b[1;32m---> <a href='file:///c%3A/Users/broll/AppData/Local/Programs/Python/Python310/lib/multiprocessing/popen_spawn_win32.py?line=92'>93</a>\u001b[0m     reduction\u001b[39m.\u001b[39;49mdump(process_obj, to_child)\n\u001b[0;32m     <a href='file:///c%3A/Users/broll/AppData/Local/Programs/Python/Python310/lib/multiprocessing/popen_spawn_win32.py?line=93'>94</a>\u001b[0m \u001b[39mfinally\u001b[39;00m:\n\u001b[0;32m     <a href='file:///c%3A/Users/broll/AppData/Local/Programs/Python/Python310/lib/multiprocessing/popen_spawn_win32.py?line=94'>95</a>\u001b[0m     set_spawning_popen(\u001b[39mNone\u001b[39;00m)\n",
      "File \u001b[1;32m~\\AppData\\Local\\Programs\\Python\\Python310\\lib\\multiprocessing\\reduction.py:60\u001b[0m, in \u001b[0;36mdump\u001b[1;34m(obj, file, protocol)\u001b[0m\n\u001b[0;32m     <a href='file:///c%3A/Users/broll/AppData/Local/Programs/Python/Python310/lib/multiprocessing/reduction.py?line=57'>58</a>\u001b[0m \u001b[39mdef\u001b[39;00m \u001b[39mdump\u001b[39m(obj, file, protocol\u001b[39m=\u001b[39m\u001b[39mNone\u001b[39;00m):\n\u001b[0;32m     <a href='file:///c%3A/Users/broll/AppData/Local/Programs/Python/Python310/lib/multiprocessing/reduction.py?line=58'>59</a>\u001b[0m     \u001b[39m'''Replacement for pickle.dump() using ForkingPickler.'''\u001b[39;00m\n\u001b[1;32m---> <a href='file:///c%3A/Users/broll/AppData/Local/Programs/Python/Python310/lib/multiprocessing/reduction.py?line=59'>60</a>\u001b[0m     ForkingPickler(file, protocol)\u001b[39m.\u001b[39;49mdump(obj)\n",
      "\u001b[1;31mKeyboardInterrupt\u001b[0m: "
     ]
    }
   ],
   "source": [
    "#s_folder = r'C:\\Users\\broll\\ZF Friedrichshafen AG\\33658 InFusion - Documents\\Grunddatenerhebung\\07 Winterversuche\\Data\\Messungen\\extracted' \n",
    "s_folder = r'C:\\Users\\broll\\ZF Friedrichshafen AG\\33658 InFusion - Documents\\Grunddatenerhebung\\04 Data\\20210802\\extracted' \n",
    "\n",
    "import os\n",
    "ls_fileNames = os.listdir(s_folder)\n",
    "for s_fileName in ls_fileNames:\n",
    "    currentFile = path.join(s_folder, s_fileName)\n",
    "    mongoTools.mongoUploadFileMulti2(currentFile, None, None, None, [\"DAIO\"])"
   ]
  },
  {
   "cell_type": "code",
   "execution_count": null,
   "metadata": {},
   "outputs": [],
   "source": [
    "Reibung = getMongoMessage(\"Reibung\")\n",
    "#Reibung[\"_id\"].plot()\n",
    "Reibung[\"Reibung\"].plot()\n"
   ]
  },
  {
   "cell_type": "code",
   "execution_count": null,
   "metadata": {},
   "outputs": [],
   "source": [
    "matFile = r'Recorder_2021_08_02_08_14_23.mat'\n",
    "s_folder = r'C:\\Users\\broll\\ZF Friedrichshafen AG\\33658 InFusion - Documents\\Grunddatenerhebung\\04 Data\\20210802\\extracted' \n",
    "mongoTools.mongoUploadFile(path.join(s_folder, matFile), None, None, None)"
   ]
  }
 ],
 "metadata": {
  "interpreter": {
   "hash": "d06e63a7861b3c8743ae71dd184ea72022cc2e9602d1c78c2128b82997df0244"
  },
  "kernelspec": {
   "display_name": "Python 3.10.2 64-bit",
   "language": "python",
   "name": "python3"
  },
  "language_info": {
   "codemirror_mode": {
    "name": "ipython",
    "version": 3
   },
   "file_extension": ".py",
   "mimetype": "text/x-python",
   "name": "python",
   "nbconvert_exporter": "python",
   "pygments_lexer": "ipython3",
   "version": "3.10.2"
  },
  "orig_nbformat": 4
 },
 "nbformat": 4,
 "nbformat_minor": 2
}

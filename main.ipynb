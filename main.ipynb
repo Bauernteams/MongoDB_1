{
 "cells": [
  {
   "cell_type": "code",
   "execution_count": 12,
   "metadata": {},
   "outputs": [],
   "source": [
    "from InFusionTools import getMongoMessage\n",
    "import mongoTools\n",
    "from os import path"
   ]
  },
  {
   "cell_type": "code",
   "execution_count": 2,
   "metadata": {},
   "outputs": [],
   "source": [
    "#s_folder = r'C:\\Users\\broll\\ZF Friedrichshafen AG\\33658 InFusion - Documents\\Grunddatenerhebung\\07 Winterversuche\\Data\\Messungen\\extracted' \n",
    "#s_folder = r\"C:\\Users\\broll\\ZF Friedrichshafen AG\\33658 InFusion - Documents\\Grunddatenerhebung\\04 Data\\20210802\\extracted\"\n",
    "s_folder = r'C:\\Users\\broll\\ZF Friedrichshafen AG\\33658 InFusion - Documents\\Grunddatenerhebung\\07 Winterversuche\\Data\\Messungen\\extracted'\n",
    "#s_folder = r'sharedData' \n",
    "\n",
    "\n",
    "from os import path, listdir\n",
    "import mongoTools\n",
    "ls_fileNames = listdir(s_folder)\n",
    "\n",
    "from multiprocessing import Process, Lock\n",
    "my_lock = Lock()\n",
    "a = 0\n",
    "for s_fileName in ls_fileNames:\n",
    "    if a < 5:\n",
    "        currentFile = path.join(s_folder, s_fileName)\n",
    "        #print(currentFile)\n",
    "        p_files = Process(target=mongoTools.mongoUploadFileMulti, args=(my_lock, currentFile, None, None, None, [\"DAIO\"], True))\n",
    "        p_files.start()\n",
    "        a = a+1\n",
    "    else:\n",
    "        p_files.join()\n",
    "        a=0\n",
    "p_files.join()"
   ]
  },
  {
   "cell_type": "code",
   "execution_count": 1,
   "metadata": {},
   "outputs": [
    {
     "name": "stderr",
     "output_type": "stream",
     "text": [
      "ldf is not supported\n",
      "xls is not supported\n",
      "xlsx is not supported\n",
      "yaml is not supported\n"
     ]
    }
   ],
   "source": [
    "from InFusionTools import renameFilesInFolderDate\n",
    "renameFilesInFolderDate(r\"C:\\Users\\broll\\ZF Friedrichshafen AG\\33658 InFusion - Documents\\Grunddatenerhebung\\04 Data\\20200903\\01_CAN_LOG\")"
   ]
  }
 ],
 "metadata": {
  "interpreter": {
   "hash": "d06e63a7861b3c8743ae71dd184ea72022cc2e9602d1c78c2128b82997df0244"
  },
  "kernelspec": {
   "display_name": "Python 3.10.2 64-bit",
   "language": "python",
   "name": "python3"
  },
  "language_info": {
   "codemirror_mode": {
    "name": "ipython",
    "version": 3
   },
   "file_extension": ".py",
   "mimetype": "text/x-python",
   "name": "python",
   "nbconvert_exporter": "python",
   "pygments_lexer": "ipython3",
   "version": "3.10.2"
  },
  "orig_nbformat": 4
 },
 "nbformat": 4,
 "nbformat_minor": 2
}

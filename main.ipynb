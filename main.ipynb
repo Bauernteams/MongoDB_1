{
 "cells": [
  {
   "cell_type": "code",
   "execution_count": 1,
   "metadata": {},
   "outputs": [],
   "source": [
    "from InFusionTools import getMongoMessage\n",
    "import mongoTools\n",
    "from os import path"
   ]
  },
  {
   "cell_type": "code",
   "execution_count": 3,
   "metadata": {},
   "outputs": [],
   "source": [
    "#s_folder = r'C:\\Users\\broll\\ZF Friedrichshafen AG\\33658 InFusion - Documents\\Grunddatenerhebung\\07 Winterversuche\\Data\\Messungen\\extracted' \n",
    "#s_folder = r'sharedData' \n",
    "s_folder = r'C:\\Users\\broll\\ZF Friedrichshafen AG\\33658 InFusion - Documents\\Grunddatenerhebung\\04 Data\\20201203\\01_CAN_LOG\\extracted' \n",
    "\n",
    "\n",
    "import os\n",
    "ls_fileNames = os.listdir(s_folder)\n",
    "\n",
    "from multiprocessing import Process, Lock\n",
    "my_lock = Lock()\n",
    "for s_fileName in ls_fileNames:\n",
    "    currentFile = path.join(s_folder, s_fileName)\n",
    "    #print(currentFile)\n",
    "    p_files = Process(target=mongoTools.mongoUploadFileMulti, args=(my_lock, currentFile, None, None, None, None, True))\n",
    "    p_files.start()\n",
    "p_files.join()"
   ]
  },
  {
   "cell_type": "code",
   "execution_count": 1,
   "metadata": {},
   "outputs": [
    {
     "name": "stdout",
     "output_type": "stream",
     "text": [
      "Loading:  C:\\Users\\broll\\OneDrive - ZF Friedrichshafen AG\\Documents\\Programming\\MongoDB_1\\sharedData\\Recorder_2021_08_02_08_44_43.mat\n"
     ]
    }
   ],
   "source": [
    "#s_folder = r'C:\\Users\\broll\\ZF Friedrichshafen AG\\33658 InFusion - Documents\\Grunddatenerhebung\\07 Winterversuche\\Data\\Messungen\\extracted' \n",
    "s_folder = r'C:\\Users\\broll\\OneDrive - ZF Friedrichshafen AG\\Documents\\Programming\\MongoDB_1\\sharedData' \n",
    "\n",
    "import os\n",
    "import mongoTools\n",
    "ls_fileNames = os.listdir(s_folder)\n",
    "for s_fileName in ls_fileNames:\n",
    "    currentFile = os.path.join(s_folder, s_fileName)\n",
    "    mongoTools.mongoUploadFileMulti2(currentFile, None, None, None, [], True)"
   ]
  },
  {
   "cell_type": "code",
   "execution_count": null,
   "metadata": {},
   "outputs": [],
   "source": [
    "matFile = r'Recorder_2021_08_02_08_44_43.mat'\n",
    "s_folder = r'sharedData' \n",
    "mongoTools.mongoUploadFile(path.join(s_folder, matFile), None, None, None, [\"DAIO\"])"
   ]
  },
  {
   "cell_type": "code",
   "execution_count": null,
   "metadata": {},
   "outputs": [],
   "source": [
    "db = mongoTools.connectMongoDB()\n"
   ]
  },
  {
   "cell_type": "code",
   "execution_count": null,
   "metadata": {},
   "outputs": [],
   "source": [
    "import InFusionTools\n",
    "InFusionTools.renameFilesInFolderDate(r\"C:\\Users\\broll\\ZF Friedrichshafen AG\\33658 InFusion - Documents\\Grunddatenerhebung\\04 Data\\20201126\\01_CAN_LOG\")"
   ]
  }
 ],
 "metadata": {
  "interpreter": {
   "hash": "d06e63a7861b3c8743ae71dd184ea72022cc2e9602d1c78c2128b82997df0244"
  },
  "kernelspec": {
   "display_name": "Python 3.10.2 64-bit",
   "language": "python",
   "name": "python3"
  },
  "language_info": {
   "codemirror_mode": {
    "name": "ipython",
    "version": 3
   },
   "file_extension": ".py",
   "mimetype": "text/x-python",
   "name": "python",
   "nbconvert_exporter": "python",
   "pygments_lexer": "ipython3",
   "version": "3.10.2"
  },
  "orig_nbformat": 4
 },
 "nbformat": 4,
 "nbformat_minor": 2
}

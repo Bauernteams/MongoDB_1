{
 "cells": [
  {
   "cell_type": "code",
   "execution_count": 1,
   "metadata": {},
   "outputs": [],
   "source": [
    "from InFusionTools import getMongoMessage\n",
    "import mongoTools\n",
    "from os import path"
   ]
  },
  {
   "cell_type": "code",
   "execution_count": null,
   "metadata": {},
   "outputs": [],
   "source": [
    "#s_folder = r'C:\\Users\\broll\\ZF Friedrichshafen AG\\33658 InFusion - Documents\\Grunddatenerhebung\\07 Winterversuche\\Data\\Messungen\\extracted' \n",
    "#s_folder = r'sharedData' \n",
    "s_folder = r'C:\\Users\\broll\\ZF Friedrichshafen AG\\33658 InFusion - Documents\\Grunddatenerhebung\\07 Winterversuche\\Data\\Messungen\\extracted' \n",
    "\n",
    "\n",
    "import os\n",
    "ls_fileNames = os.listdir(s_folder)\n",
    "\n",
    "from multiprocessing import Process, Lock\n",
    "my_lock = Lock()\n",
    "for s_fileName in ls_fileNames:\n",
    "    currentFile = path.join(s_folder, s_fileName)\n",
    "    #print(currentFile)\n",
    "    p_files = Process(target=mongoTools.mongoUploadFileMulti, args=(my_lock, currentFile, None, None, None, None, True))\n",
    "    p_files.start()\n",
    "p_files.join()"
   ]
  },
  {
   "cell_type": "code",
   "execution_count": null,
   "metadata": {},
   "outputs": [],
   "source": [
    "#s_folder = r'C:\\Users\\broll\\ZF Friedrichshafen AG\\33658 InFusion - Documents\\Grunddatenerhebung\\07 Winterversuche\\Data\\Messungen\\extracted' \n",
    "#s_folder = r'sharedData' \n",
    "s_folder = r'C:\\Users\\broll\\ZF Friedrichshafen AG\\33658 InFusion - Documents\\Grunddatenerhebung\\07 Winterversuche\\Data\\Messungen\\extracted' \n",
    "\n",
    "\n",
    "import os\n",
    "ls_fileNames = os.listdir(s_folder)\n",
    "\n",
    "from multiprocessing import Process, Lock\n",
    "my_lock = Lock()\n",
    "for s_fileName in ls_fileNames:\n",
    "    currentFile = path.join(s_folder, s_fileName)\n",
    "    #print(currentFile)\n",
    "    p_files = Process(target=mongoTools.mongoUploadFileMulti, args=(my_lock, currentFile, None, None, None, None, True))\n",
    "    p_files.start()\n",
    "p_files.join()"
   ]
  },
  {
   "cell_type": "code",
   "execution_count": 2,
   "metadata": {},
   "outputs": [],
   "source": [
    "#s_folder = r'C:\\Users\\broll\\ZF Friedrichshafen AG\\33658 InFusion - Documents\\Grunddatenerhebung\\07 Winterversuche\\Data\\Messungen\\extracted' \n",
    "#s_folder = r'sharedData' \n",
    "s_folder = r'C:\\Users\\broll\\ZF Friedrichshafen AG\\33658 InFusion - Documents\\Grunddatenerhebung\\04 Data\\20201203\\01_CAN_LOG\\extracted'\n",
    "\n",
    "\n",
    "from os import path, listdir\n",
    "import mongoTools\n",
    "ls_fileNames = listdir(s_folder)\n",
    "\n",
    "from multiprocessing import Process, Lock\n",
    "my_lock = Lock()\n",
    "a = 0\n",
    "for s_fileName in ls_fileNames:\n",
    "    if a < 5:\n",
    "        currentFile = path.join(s_folder, s_fileName)\n",
    "        #print(currentFile)\n",
    "        p_files = Process(target=mongoTools.mongoUploadFileMulti, args=(my_lock, currentFile, None, None, None, None, True))\n",
    "        p_files.start()\n",
    "        a = a+1\n",
    "    else:\n",
    "        p_files.join()\n",
    "        a=0"
   ]
  },
  {
   "cell_type": "code",
   "execution_count": 2,
   "metadata": {},
   "outputs": [
    {
     "name": "stdout",
     "output_type": "stream",
     "text": [
      "C:\\Users\\broll\\ZF Friedrichshafen AG\\33658 InFusion - Documents\\Grunddatenerhebung\\04 Data\\20210603\\20210602\\mat_Export\\extracted\\Rekorder_2021_06_02_12_50_07.mat\n",
      "C:\\Users\\broll\\ZF Friedrichshafen AG\\33658 InFusion - Documents\\Grunddatenerhebung\\04 Data\\20210603\\20210602\\mat_Export\\extracted\\Rekorder_2021_06_02_12_52_24.mat\n",
      "C:\\Users\\broll\\ZF Friedrichshafen AG\\33658 InFusion - Documents\\Grunddatenerhebung\\04 Data\\20210603\\20210602\\mat_Export\\extracted\\Rekorder_2021_06_02_12_54_11.mat\n",
      "C:\\Users\\broll\\ZF Friedrichshafen AG\\33658 InFusion - Documents\\Grunddatenerhebung\\04 Data\\20210603\\20210602\\mat_Export\\extracted\\Rekorder_2021_06_02_12_55_53.mat\n",
      "C:\\Users\\broll\\ZF Friedrichshafen AG\\33658 InFusion - Documents\\Grunddatenerhebung\\04 Data\\20210603\\20210602\\mat_Export\\extracted\\Rekorder_2021_06_02_12_58_03.mat\n",
      "C:\\Users\\broll\\ZF Friedrichshafen AG\\33658 InFusion - Documents\\Grunddatenerhebung\\04 Data\\20210603\\20210602\\mat_Export\\extracted\\Rekorder_2021_06_02_12_59_47.mat\n",
      "C:\\Users\\broll\\ZF Friedrichshafen AG\\33658 InFusion - Documents\\Grunddatenerhebung\\04 Data\\20210603\\20210602\\mat_Export\\extracted\\Rekorder_2021_06_02_13_01_32.mat\n",
      "C:\\Users\\broll\\ZF Friedrichshafen AG\\33658 InFusion - Documents\\Grunddatenerhebung\\04 Data\\20210603\\20210602\\mat_Export\\extracted\\Rekorder_2021_06_02_13_05_02.mat\n",
      "C:\\Users\\broll\\ZF Friedrichshafen AG\\33658 InFusion - Documents\\Grunddatenerhebung\\04 Data\\20210603\\20210602\\mat_Export\\extracted\\Rekorder_2021_06_02_13_06_57.mat\n",
      "C:\\Users\\broll\\ZF Friedrichshafen AG\\33658 InFusion - Documents\\Grunddatenerhebung\\04 Data\\20210603\\20210602\\mat_Export\\extracted\\Rekorder_2021_06_02_13_08_50.mat\n",
      "C:\\Users\\broll\\ZF Friedrichshafen AG\\33658 InFusion - Documents\\Grunddatenerhebung\\04 Data\\20210603\\20210602\\mat_Export\\extracted\\Rekorder_2021_06_02_13_11_11.mat\n",
      "C:\\Users\\broll\\ZF Friedrichshafen AG\\33658 InFusion - Documents\\Grunddatenerhebung\\04 Data\\20210603\\20210602\\mat_Export\\extracted\\Rekorder_2021_06_02_13_13_24.mat\n",
      "C:\\Users\\broll\\ZF Friedrichshafen AG\\33658 InFusion - Documents\\Grunddatenerhebung\\04 Data\\20210603\\20210602\\mat_Export\\extracted\\Rekorder_2021_06_02_13_16_03.mat\n",
      "C:\\Users\\broll\\ZF Friedrichshafen AG\\33658 InFusion - Documents\\Grunddatenerhebung\\04 Data\\20210603\\20210602\\mat_Export\\extracted\\Rekorder_2021_06_02_13_18_22.mat\n",
      "C:\\Users\\broll\\ZF Friedrichshafen AG\\33658 InFusion - Documents\\Grunddatenerhebung\\04 Data\\20210603\\20210602\\mat_Export\\extracted\\Rekorder_2021_06_02_13_20_31.mat\n",
      "C:\\Users\\broll\\ZF Friedrichshafen AG\\33658 InFusion - Documents\\Grunddatenerhebung\\04 Data\\20210603\\20210602\\mat_Export\\extracted\\Rekorder_2021_06_02_13_22_50.mat\n",
      "C:\\Users\\broll\\ZF Friedrichshafen AG\\33658 InFusion - Documents\\Grunddatenerhebung\\04 Data\\20210603\\20210602\\mat_Export\\extracted\\Rekorder_2021_06_02_13_25_20.mat\n",
      "C:\\Users\\broll\\ZF Friedrichshafen AG\\33658 InFusion - Documents\\Grunddatenerhebung\\04 Data\\20210603\\20210602\\mat_Export\\extracted\\Rekorder_2021_06_02_13_27_40.mat\n",
      "C:\\Users\\broll\\ZF Friedrichshafen AG\\33658 InFusion - Documents\\Grunddatenerhebung\\04 Data\\20210603\\20210602\\mat_Export\\extracted\\Rekorder_2021_06_02_13_30_04.mat\n",
      "C:\\Users\\broll\\ZF Friedrichshafen AG\\33658 InFusion - Documents\\Grunddatenerhebung\\04 Data\\20210603\\20210602\\mat_Export\\extracted\\Rekorder_2021_06_02_13_32_20.mat\n",
      "C:\\Users\\broll\\ZF Friedrichshafen AG\\33658 InFusion - Documents\\Grunddatenerhebung\\04 Data\\20210603\\20210602\\mat_Export\\extracted\\Rekorder_2021_06_02_13_35_33.mat\n",
      "C:\\Users\\broll\\ZF Friedrichshafen AG\\33658 InFusion - Documents\\Grunddatenerhebung\\04 Data\\20210603\\20210602\\mat_Export\\extracted\\Rekorder_2021_06_02_13_37_20.mat\n",
      "C:\\Users\\broll\\ZF Friedrichshafen AG\\33658 InFusion - Documents\\Grunddatenerhebung\\04 Data\\20210603\\20210602\\mat_Export\\extracted\\Rekorder_2021_06_02_13_39_30.mat\n",
      "C:\\Users\\broll\\ZF Friedrichshafen AG\\33658 InFusion - Documents\\Grunddatenerhebung\\04 Data\\20210603\\20210602\\mat_Export\\extracted\\Rekorder_2021_06_02_13_41_16.mat\n",
      "C:\\Users\\broll\\ZF Friedrichshafen AG\\33658 InFusion - Documents\\Grunddatenerhebung\\04 Data\\20210603\\20210602\\mat_Export\\extracted\\Rekorder_2021_06_02_13_43_02.mat\n",
      "C:\\Users\\broll\\ZF Friedrichshafen AG\\33658 InFusion - Documents\\Grunddatenerhebung\\04 Data\\20210603\\20210602\\mat_Export\\extracted\\Rekorder_2021_06_02_13_45_15.mat\n",
      "C:\\Users\\broll\\ZF Friedrichshafen AG\\33658 InFusion - Documents\\Grunddatenerhebung\\04 Data\\20210603\\20210602\\mat_Export\\extracted\\Rekorder_2021_06_02_13_48_43.mat\n",
      "C:\\Users\\broll\\ZF Friedrichshafen AG\\33658 InFusion - Documents\\Grunddatenerhebung\\04 Data\\20210603\\20210602\\mat_Export\\extracted\\Rekorder_2021_06_02_13_54_53.mat\n",
      "C:\\Users\\broll\\ZF Friedrichshafen AG\\33658 InFusion - Documents\\Grunddatenerhebung\\04 Data\\20210603\\20210602\\mat_Export\\extracted\\Rekorder_2021_06_02_13_56_51.mat\n"
     ]
    }
   ],
   "source": [
    "#s_folder = r'C:\\Users\\broll\\ZF Friedrichshafen AG\\33658 InFusion - Documents\\Grunddatenerhebung\\07 Winterversuche\\Data\\Messungen\\extracted' \n",
    "#s_folder = r'sharedData' \n",
    "s_folder = r'C:\\Users\\broll\\ZF Friedrichshafen AG\\33658 InFusion - Documents\\Grunddatenerhebung\\04 Data\\20210603\\20210602\\mat_Export\\extracted' \n",
    "\n",
    "\n",
    "from os import path\n",
    "import mongoTools\n",
    "ls_fileNames = os.listdir(s_folder)\n",
    "\n",
    "from multiprocessing import Pool, Lock\n",
    "my_lock = Lock()\n",
    "pool = Pool()\n",
    "for s_fileName in ls_fileNames:\n",
    "    currentFile = path.join(s_folder, s_fileName)\n",
    "    print(currentFile)\n",
    "    pool.apply_async(mongoTools.mongoUploadFileMulti, args=(my_lock, currentFile, None, None, None, None, True,))\n",
    "pool.close()\n",
    "pool.join()"
   ]
  },
  {
   "cell_type": "code",
   "execution_count": 2,
   "metadata": {},
   "outputs": [],
   "source": [
    "from multiprocessing import Pool\n",
    "def f(x):\n",
    "    print(x*x)\n",
    "\n",
    "with Pool(3) as p:\n",
    "    print(p.map(f, [1,2,3]))\n"
   ]
  },
  {
   "cell_type": "code",
   "execution_count": null,
   "metadata": {},
   "outputs": [],
   "source": [
    "matFile = r'Recorder_2021_08_02_08_44_43.mat'\n",
    "s_folder = r'sharedData' \n",
    "mongoTools.mongoUploadFile(path.join(s_folder, matFile), None, None, None, [\"DAIO\"])"
   ]
  },
  {
   "cell_type": "code",
   "execution_count": null,
   "metadata": {},
   "outputs": [],
   "source": [
    "db = mongoTools.connectMongoDB()\n"
   ]
  },
  {
   "cell_type": "code",
   "execution_count": null,
   "metadata": {},
   "outputs": [],
   "source": [
    "import InFusionTools\n",
    "InFusionTools.renameFilesInFolderDate(r\"C:\\Users\\broll\\ZF Friedrichshafen AG\\33658 InFusion - Documents\\Grunddatenerhebung\\04 Data\\20201126\\01_CAN_LOG\")"
   ]
  }
 ],
 "metadata": {
  "interpreter": {
   "hash": "d06e63a7861b3c8743ae71dd184ea72022cc2e9602d1c78c2128b82997df0244"
  },
  "kernelspec": {
   "display_name": "Python 3.10.2 64-bit",
   "language": "python",
   "name": "python3"
  },
  "language_info": {
   "codemirror_mode": {
    "name": "ipython",
    "version": 3
   },
   "file_extension": ".py",
   "mimetype": "text/x-python",
   "name": "python",
   "nbconvert_exporter": "python",
   "pygments_lexer": "ipython3",
   "version": "3.10.2"
  },
  "orig_nbformat": 4
 },
 "nbformat": 4,
 "nbformat_minor": 2
}

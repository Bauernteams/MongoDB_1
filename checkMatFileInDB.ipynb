{
 "cells": [
  {
   "cell_type": "code",
   "execution_count": null,
   "metadata": {},
   "outputs": [],
   "source": [
    "from mongoTools import connectMongoDB\n",
    "db = connectMongoDB(False)"
   ]
  },
  {
   "cell_type": "code",
   "execution_count": null,
   "metadata": {},
   "outputs": [],
   "source": [
    "from scipy.io import loadmat\n",
    "from os import path\n",
    "from InFusionTools import convertTime\n",
    "s_fileName = r\"Recorder_2021_08_02_08_44_43.mat\"\n",
    "s_folderPath = r\"sharedData\"\n",
    "s_filePath = path.join(s_folderPath, s_fileName)\n",
    "matFile = loadmat(s_filePath)\n",
    "startTime = convertTime(s_fileName.split(\".\")[0])"
   ]
  },
  {
   "cell_type": "code",
   "execution_count": null,
   "metadata": {},
   "outputs": [],
   "source": [
    "channel = \"CAN3\"\n",
    "message = \"NRPY\"\n",
    "signal = \"yaw\"\n",
    "\n",
    "earliestSignalTimeDelta = matFile[channel][0][0][message][signal][0][0][0][0]\n",
    "latestSignalTimeDelta = matFile[channel][0][0][message][signal][0][0][-1][0]\n",
    "print(earliestSignalTimeDelta)\n",
    "print(latestSignalTimeDelta)"
   ]
  },
  {
   "cell_type": "code",
   "execution_count": null,
   "metadata": {},
   "outputs": [],
   "source": [
    "from mongoTools import isMessageInDB\n",
    "isMessageInDB(db, message)\n",
    "db[message].find_one()"
   ]
  },
  {
   "cell_type": "code",
   "execution_count": null,
   "metadata": {},
   "outputs": [],
   "source": [
    "%%time\n",
    "from mongoTools import isSignalNameInDB\n",
    "isSignalNameInDB(db, message, signal)"
   ]
  },
  {
   "cell_type": "code",
   "execution_count": null,
   "metadata": {},
   "outputs": [],
   "source": [
    "from mongoTools import getEarliestMessageID, getLatestMessageID\n",
    "earliestMessageID = getEarliestMessageID(db, message)\n",
    "latestMessageID = getLatestMessageID(db, message)"
   ]
  },
  {
   "cell_type": "code",
   "execution_count": null,
   "metadata": {},
   "outputs": [],
   "source": [
    "from InFusionTools import convertTime\n",
    "startTime = convertTime(s_fileName.split(\".\")[0])\n",
    "t0 = (startTime + earliestSignalTimeDelta)*100000\n",
    "print(t0)\n",
    "print(earliestMessageID)\n",
    "t1 = (startTime + latestSignalTimeDelta)*100000\n",
    "print(t1)\n",
    "print(latestMessageID)"
   ]
  },
  {
   "cell_type": "code",
   "execution_count": null,
   "metadata": {},
   "outputs": [],
   "source": [
    "from mongoTools import isSignalNameInDB\n",
    "print(isSignalNameInDB(db, message, signal))\n",
    "signal in db[message].find_one().keys()"
   ]
  },
  {
   "cell_type": "code",
   "execution_count": null,
   "metadata": {},
   "outputs": [],
   "source": [
    "from mongoTools import isSignalUploaded\n",
    "print(bool(isSignalUploaded(db, channel, message, signal, matFile, startTime)))"
   ]
  },
  {
   "cell_type": "code",
   "execution_count": null,
   "metadata": {},
   "outputs": [],
   "source": [
    "earliestSignalTimeDelta = matFile[channel][0][0][message][signal][0][0][0][0]\n",
    "earliestSignalValue = matFile[channel][0][0][message][signal][0][0][0][1]\n",
    "latestSignalTimeDelta = matFile[channel][0][0][message][signal][0][0][-1][0]\n",
    "latestSignalValue = matFile[channel][0][0][message][signal][0][0][-1][1]\n",
    "t0 = (startTime + earliestSignalTimeDelta)*100000\n",
    "t1 = (startTime + latestSignalTimeDelta)*100000\n",
    "\n",
    "{\"_id\": t0},{signal: earliestSignalValue}"
   ]
  },
  {
   "cell_type": "code",
   "execution_count": null,
   "metadata": {},
   "outputs": [],
   "source": [
    "d = [dict([(\"_id\", (x[0]+startTime)*100000), (signal, x[1])]) for x in matFile[channel][0][0][message][signal][0][0]]\n",
    "print(d)"
   ]
  },
  {
   "cell_type": "code",
   "execution_count": null,
   "metadata": {},
   "outputs": [],
   "source": [
    "signal = \"roll\"\n",
    "[d[i].update([(signal, x[1])]) for i, x in enumerate(matFile[channel][0][0][message][signal][0][0])]\n",
    "print(d)"
   ]
  },
  {
   "cell_type": "code",
   "execution_count": null,
   "metadata": {},
   "outputs": [],
   "source": [
    "db[message].find_one({\"_id\": t0})[\"pitch\"]"
   ]
  },
  {
   "cell_type": "code",
   "execution_count": null,
   "metadata": {},
   "outputs": [],
   "source": [
    "db[message].find_one({\"_id\": 162788668309438.3, \"yaw\": 14.58, \"roll\": 88.32000000000001, \"pitch\": 0})"
   ]
  },
  {
   "cell_type": "code",
   "execution_count": null,
   "metadata": {},
   "outputs": [],
   "source": [
    "myMessage = matFile[channel][0][0][message]"
   ]
  },
  {
   "cell_type": "code",
   "execution_count": null,
   "metadata": {},
   "outputs": [],
   "source": [
    "from mongoTools import areMessageSignalsInDB\n",
    "q = areMessageSignalsInDB(db, myMessage, matFile, startTime)\n",
    "list(db[message].find(q[0],q[1]))\n"
   ]
  },
  {
   "cell_type": "code",
   "execution_count": 37,
   "metadata": {},
   "outputs": [
    {
     "data": {
      "text/plain": [
       "[]"
      ]
     },
     "execution_count": 37,
     "metadata": {},
     "output_type": "execute_result"
    }
   ],
   "source": [
    "from pymongo import ASCENDING\n",
    "list(db[\"S2_Debug\"].find({\"_id\": {\"$gt\": t0, \"$lt\": t1}}, {\"_id\"}).sort([(\"_id\", ASCENDING)]))"
   ]
  },
  {
   "cell_type": "code",
   "execution_count": 38,
   "metadata": {},
   "outputs": [
    {
     "data": {
      "text/plain": [
       "162788668309438.3"
      ]
     },
     "execution_count": 38,
     "metadata": {},
     "output_type": "execute_result"
    }
   ],
   "source": [
    "t0"
   ]
  }
 ],
 "metadata": {
  "interpreter": {
   "hash": "d45ae15661fcf62600e5cd476f7562a95d0394c7ca55d7b1f7b0349e82ef7d22"
  },
  "kernelspec": {
   "display_name": "Python 3.9.10 64-bit (windows store)",
   "language": "python",
   "name": "python3"
  },
  "language_info": {
   "codemirror_mode": {
    "name": "ipython",
    "version": 3
   },
   "file_extension": ".py",
   "mimetype": "text/x-python",
   "name": "python",
   "nbconvert_exporter": "python",
   "pygments_lexer": "ipython3",
   "version": "3.9.10"
  },
  "orig_nbformat": 4
 },
 "nbformat": 4,
 "nbformat_minor": 2
}

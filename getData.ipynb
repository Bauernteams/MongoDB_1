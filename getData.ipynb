{
 "cells": [
  {
   "cell_type": "code",
   "execution_count": 1,
   "metadata": {},
   "outputs": [],
   "source": [
    "from pymongo import MongoClient, ASCENDING\n",
    "import numpy as np\n",
    "import pandas as pd"
   ]
  },
  {
   "cell_type": "code",
   "execution_count": 2,
   "metadata": {},
   "outputs": [],
   "source": [
    "client = MongoClient(\"127.0.0.1\", port=27017)\n",
    "db = client.InFusion\n",
    "CCVS1 = db.CCVS1\n",
    "SoundAI = db.SoundAI"
   ]
  },
  {
   "cell_type": "code",
   "execution_count": null,
   "metadata": {},
   "outputs": [],
   "source": [
    "print('Total Record for the collection:')\n",
    "myquery = { \"WheelBasedVehicleSpeed\": { \"$gt\": 40 } }\n",
    "for i, c in enumerate(CCVS1.find(myquery)):\n",
    "    continue\n",
    "print(i)"
   ]
  },
  {
   "cell_type": "code",
   "execution_count": null,
   "metadata": {},
   "outputs": [],
   "source": [
    "df = pd.DataFrame(list(db.CCVS1.find()))\n",
    "print(df.size)\n",
    "df[\"WheelBasedVehicleSpeed\"].sort_index().plot(use_index=True)"
   ]
  },
  {
   "cell_type": "code",
   "execution_count": null,
   "metadata": {},
   "outputs": [],
   "source": [
    "df = pd.DataFrame(list(db.Reibung.find()))\n",
    "print(df.size)\n",
    "#df[\"_id\"].sort_index().plot()\n",
    "df[\"Reibung\"].sort_index().plot(use_index=True)"
   ]
  },
  {
   "cell_type": "code",
   "execution_count": null,
   "metadata": {},
   "outputs": [],
   "source": [
    "df = pd.DataFrame(list(db.DD1.find()))\n",
    "print(df.size)\n",
    "#df[\"_id\"].sort_index().plot()\n",
    "df[\"FuelLevel1\"].sort_index(inplace=True)"
   ]
  },
  {
   "cell_type": "code",
   "execution_count": null,
   "metadata": {},
   "outputs": [],
   "source": [
    "df = pd.DataFrame(list(db.HOURS.find().sort([(\"_id\", ASCENDING)])))\n",
    "print(df.size)\n",
    "temp = df[\"_id\"][0]\n",
    "df[\"_id\"].sort_index().plot()\n",
    "#df[\"EngTotalHoursOfOperation\"].plot()\n",
    "print(temp)\n",
    "import time\n",
    "print(time.gmtime(temp/100000.))\n",
    "#164398353210328.0\n",
    "#164422125244121.0"
   ]
  },
  {
   "cell_type": "code",
   "execution_count": 56,
   "metadata": {},
   "outputs": [],
   "source": [
    "a = db.list_collection_names()\n",
    "for c in a:\n",
    "    if \"DataFrame\" in c:\n",
    "        db.drop_collection(c)\n"
   ]
  },
  {
   "cell_type": "code",
   "execution_count": 5,
   "metadata": {},
   "outputs": [
    {
     "data": {
      "text/plain": [
       "<AxesSubplot:>"
      ]
     },
     "execution_count": 5,
     "metadata": {},
     "output_type": "execute_result"
    },
    {
     "data": {
      "image/png": "[encoded data removed]",
      "text/plain": [
       "<Figure size 432x288 with 1 Axes>"
      ]
     },
     "metadata": {
      "needs_background": "light"
     },
     "output_type": "display_data"
    }
   ],
   "source": [
    "from InFusionTools import convertTime\n",
    "import pandas as pd\n",
    "from mongoTools import connectMongoDB\n",
    "\n",
    "db = connectMongoDB()\n",
    "\n",
    "t0 = convertTime(\"Recorder_2021_08_02_08_14_23\")\n",
    "t1 = convertTime(\"Recorder_2021_08_02_08_30_43\")\n",
    "message = \"OMGS\"\n",
    "signal = \"OmgS_Y\"\n",
    "\n",
    "df = pd.DataFrame(list(db[message].find({\"_id\": {\"$lt\": t1*100000}})))\n",
    "df[signal].plot()\n",
    "#df[message].head()"
   ]
  },
  {
   "cell_type": "code",
   "execution_count": null,
   "metadata": {},
   "outputs": [
    {
     "ename": "",
     "evalue": "",
     "output_type": "error",
     "traceback": [
      "\u001b[1;31mUnable to start Kernel 'Python 3.10.2 64-bit' due to connection timeout. \n",
      "View Jupyter <a href='command:jupyter.viewOutput'>log</a> for further details."
     ]
    }
   ],
   "source": [
    "message = \"CCVS1\"\n",
    "df = pd.DataFrame(list(db[message].find().sort([(\"_id\", ASCENDING)])))\n",
    "df[\"_id\"].plot()"
   ]
  }
 ],
 "metadata": {
  "interpreter": {
   "hash": "d06e63a7861b3c8743ae71dd184ea72022cc2e9602d1c78c2128b82997df0244"
  },
  "kernelspec": {
   "display_name": "Python 3.10.2 64-bit",
   "language": "python",
   "name": "python3"
  },
  "language_info": {
   "codemirror_mode": {
    "name": "ipython",
    "version": 3
   },
   "file_extension": ".py",
   "mimetype": "text/x-python",
   "name": "python",
   "nbconvert_exporter": "python",
   "pygments_lexer": "ipython3",
   "version": "3.10.2"
  },
  "orig_nbformat": 4
 },
 "nbformat": 4,
 "nbformat_minor": 2
}

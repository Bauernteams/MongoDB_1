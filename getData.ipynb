{
 "cells": [
  {
   "cell_type": "code",
   "execution_count": 1,
   "metadata": {},
   "outputs": [],
   "source": [
    "from pymongo import MongoClient, ASCENDING\n",
    "import numpy as np\n",
    "import pandas as pd"
   ]
  },
  {
   "cell_type": "code",
   "execution_count": 2,
   "metadata": {},
   "outputs": [
    {
     "name": "stdout",
     "output_type": "stream",
     "text": [
      "6453\n",
      "162263125165035.0\n",
      "time.struct_time(tm_year=2021, tm_mon=6, tm_mday=2, tm_hour=10, tm_min=54, tm_sec=11, tm_wday=2, tm_yday=153, tm_isdst=0)\n"
     ]
    },
    {
     "data": {
      "image/png": "[encoded data removed]",
      "text/plain": [
       "<Figure size 432x288 with 1 Axes>"
      ]
     },
     "metadata": {
      "needs_background": "light"
     },
     "output_type": "display_data"
    }
   ],
   "source": [
    "with MongoClient(\"127.0.0.1\", port=27017) as client:\n",
    "    db = client.InFusion\n",
    "    df = pd.DataFrame(list(db.HOURS.find().sort([(\"_id\", ASCENDING)])))\n",
    "    print(df.size)\n",
    "    temp = df[\"_id\"][0]\n",
    "    df[\"_id\"].sort_index().plot()\n",
    "    print(temp)\n",
    "    import time\n",
    "    print(time.gmtime(temp/100000.))"
   ]
  },
  {
   "cell_type": "code",
   "execution_count": null,
   "metadata": {},
   "outputs": [],
   "source": []
  },
  {
   "cell_type": "code",
   "execution_count": null,
   "metadata": {},
   "outputs": [],
   "source": [
    "from InFusionTools import convertTime\n",
    "import pandas as pd\n",
    "from mongoTools import connectMongoDB\n",
    "\n",
    "db = connectMongoDB()\n",
    "\n",
    "t0 = convertTime(\"Recorder_2021_08_02_08_14_23\")\n",
    "t1 = convertTime(\"Recorder_2021_08_02_08_30_43\")\n",
    "message = \"OMGS\"\n",
    "signal = \"OmgS_Y\"\n",
    "\n",
    "df = pd.DataFrame(list(db[message].find({\"_id\": {\"$lt\": t1*100000}}).sort([(\"_id\", ASCENDING)])))\n",
    "df[signal].plot()\n",
    "#df[message].head()"
   ]
  },
  {
   "cell_type": "code",
   "execution_count": null,
   "metadata": {},
   "outputs": [],
   "source": [
    "message = \"CCVS1\"\n",
    "df = pd.DataFrame(list(db[message].find().sort([(\"_id\", ASCENDING)])))\n",
    "df[\"_id\"].plot()"
   ]
  }
 ],
 "metadata": {
  "interpreter": {
   "hash": "d06e63a7861b3c8743ae71dd184ea72022cc2e9602d1c78c2128b82997df0244"
  },
  "kernelspec": {
   "display_name": "Python 3.10.2 64-bit",
   "language": "python",
   "name": "python3"
  },
  "language_info": {
   "codemirror_mode": {
    "name": "ipython",
    "version": 3
   },
   "file_extension": ".py",
   "mimetype": "text/x-python",
   "name": "python",
   "nbconvert_exporter": "python",
   "pygments_lexer": "ipython3",
   "version": "3.10.2"
  },
  "orig_nbformat": 4
 },
 "nbformat": 4,
 "nbformat_minor": 2
}

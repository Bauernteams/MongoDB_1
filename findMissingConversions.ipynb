{
 "cells": [
  {
   "cell_type": "code",
   "execution_count": 1,
   "metadata": {},
   "outputs": [],
   "source": [
    "import os\n",
    "\n",
    "# String containing the path to the folder with the files to be renamed\n",
    "sFolder = r\"C:\\Users\\broll\\ZF Friedrichshafen AG\\33658 InFusion - Documents\\Grunddatenerhebung\\07 Winterversuche\\Data\\Messungen\"\n",
    "\n",
    "# Change the current directory to specified folder:\n",
    "os.chdir(sFolder)\n",
    "\n",
    "# Get a list of all the files in specified folder\n",
    "lFileNames = os.listdir()\n",
    "\n",
    "# Run through list of files, rename and save each one\n",
    "# HERE: replace \"-\" with \"_\" in the files' name\n",
    "mat = []\n",
    "m = []\n",
    "mf4 = []\n",
    "for fn in lFileNames:\n",
    "    f_name, f_ext = os.path.splitext(fn)\n",
    "    if f_ext == '.m':\n",
    "        m.append(f_name)\n",
    "    elif f_ext == '.mat':\n",
    "        mat.append(f_name)\n",
    "    elif f_ext == '.MF4':\n",
    "        mf4.append(f_name)\n",
    "    "
   ]
  },
  {
   "cell_type": "code",
   "execution_count": 2,
   "metadata": {},
   "outputs": [
    {
     "data": {
      "text/plain": [
       "{'Rekorder_2022_02_09_18_37_07'}"
      ]
     },
     "execution_count": 2,
     "metadata": {},
     "output_type": "execute_result"
    }
   ],
   "source": [
    "set(mf4).difference(set(m))"
   ]
  },
  {
   "cell_type": "code",
   "execution_count": 3,
   "metadata": {},
   "outputs": [],
   "source": [
    "fp = r'C:\\Users\\broll\\ZF Friedrichshafen AG\\33658 InFusion - Documents\\Grunddatenerhebung\\07 Winterversuche\\Data\\Messungen\\Rekorder_2022_02_09_14_51_07.MF4'\n",
    "from asammdf import MDF, Signal\n",
    "\n",
    "data = MDF(fp)"
   ]
  },
  {
   "cell_type": "code",
   "execution_count": 16,
   "metadata": {},
   "outputs": [
    {
     "name": "stdout",
     "output_type": "stream",
     "text": [
      "Recorder_2022_2_9_12_51_10.mat\n",
      "2022\n"
     ]
    }
   ],
   "source": [
    "Y = str(data.start_time.year)\n",
    "M = str(data.start_time.month)\n",
    "D = str(data.start_time.day)\n",
    "h = str(data.start_time.hour)\n",
    "m = str(data.start_time.minute)\n",
    "s = str(data.start_time.second)\n",
    "\n",
    "print(\"_\".join([\"Recorder\", Y, M, D, h, m, s])+\".mat\")"
   ]
  },
  {
   "cell_type": "code",
   "execution_count": null,
   "metadata": {},
   "outputs": [],
   "source": [
    "matFile = r'Rekorder_2021_06_02_12_54_11.mat'\n",
    "s_folder = r'C:\\Users\\broll\\ZF Friedrichshafen AG\\33658 InFusion - Documents\\Grunddatenerhebung\\04 Data\\20210603\\20210602\\mat_Export\\extracted' \n",
    "mongoTools.mongoUploadFile(path.join(s_folder, matFile), None, None, 'CAN6')"
   ]
  }
 ],
 "metadata": {
  "interpreter": {
   "hash": "d06e63a7861b3c8743ae71dd184ea72022cc2e9602d1c78c2128b82997df0244"
  },
  "kernelspec": {
   "display_name": "Python 3.10.2 64-bit",
   "language": "python",
   "name": "python3"
  },
  "language_info": {
   "codemirror_mode": {
    "name": "ipython",
    "version": 3
   },
   "file_extension": ".py",
   "mimetype": "text/x-python",
   "name": "python",
   "nbconvert_exporter": "python",
   "pygments_lexer": "ipython3",
   "version": "3.10.2"
  },
  "orig_nbformat": 4
 },
 "nbformat": 4,
 "nbformat_minor": 2
}

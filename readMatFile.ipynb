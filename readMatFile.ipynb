{
 "cells": [
  {
   "cell_type": "code",
   "execution_count": 2,
   "metadata": {},
   "outputs": [],
   "source": [
    "from scipy.io import loadmat\n",
    "import numpy as np\n",
    "from InFusionTools import convertTime\n",
    "import os"
   ]
  },
  {
   "cell_type": "code",
   "execution_count": 3,
   "metadata": {},
   "outputs": [],
   "source": [
    "fn = r\"C:\\Users\\broll\\ZF Friedrichshafen AG\\33658 InFusion - Documents\\Grunddatenerhebung\\07 Winterversuche\\Data\\Extracted\\Rekorder_2022_02_05_11_06_30.mat\"\n",
    "f = loadmat(fn)"
   ]
  },
  {
   "cell_type": "code",
   "execution_count": 3,
   "metadata": {},
   "outputs": [
    {
     "name": "stdout",
     "output_type": "stream",
     "text": [
      "The database exists.\n"
     ]
    },
    {
     "data": {
      "text/plain": [
       "' # debugging\\n# Check if \"test\"-Collection already exists, else create the collection \"test\"\\n#TODO replace collection with meaningfull collection for InFusion data\\ncollist = db.list_collection_names()\\nif col in collist:\\n    print(\"The collection exists.\")\\n    col = db[col]\\nelse: \\n    col = db[col] '"
      ]
     },
     "execution_count": 3,
     "metadata": {},
     "output_type": "execute_result"
    }
   ],
   "source": [
    "from pymongo import MongoClient\n",
    "\n",
    "# Connect to the MongoDB on localHost\n",
    "#TODO: Create MongoDB on ZF-Server\n",
    "client = MongoClient(\"127.0.0.1\", port=27017)\n",
    "\n",
    "# Check if \"InFusion\"-Database already exists, else create the database \"InFusion\"\n",
    "dblist = client.list_database_names()\n",
    "if \"InFusion\" in dblist:\n",
    "    print(\"The database exists.\")\n",
    "    db = client.InFusion\n",
    "else: \n",
    "    db = client[\"InFusion\"]\n",
    "\n",
    "\"\"\" # debugging\n",
    "# Check if \"test\"-Collection already exists, else create the collection \"test\"\n",
    "#TODO replace collection with meaningfull collection for InFusion data\n",
    "collist = db.list_collection_names()\n",
    "if col in collist:\n",
    "    print(\"The collection exists.\")\n",
    "    col = db[col]\n",
    "else: \n",
    "    col = db[col] \"\"\""
   ]
  },
  {
   "cell_type": "code",
   "execution_count": null,
   "metadata": {},
   "outputs": [],
   "source": [
    "fn = r\"C:\\Users\\broll\\ZF Friedrichshafen AG\\33658 InFusion - Documents\\Grunddatenerhebung\\07 Winterversuche\\Data\\Extracted\"\n",
    "l_fileNames = os.listdir(fn)\n",
    "for f in l_fileNames:\n",
    "    print(os.path.join(fn, f))"
   ]
  },
  {
   "cell_type": "code",
   "execution_count": 2,
   "metadata": {},
   "outputs": [
    {
     "name": "stdout",
     "output_type": "stream",
     "text": [
      "Loading:  Recorder_2021_08_02_08_14_23.mat\n"
     ]
    },
    {
     "ename": "ValueError",
     "evalue": "time data 'Recorder_2021_08_02_08_14_23' does not match format 'Rekorder_%Y_%m_%d_%H_%M_%S'",
     "output_type": "error",
     "traceback": [
      "\u001b[1;31m---------------------------------------------------------------------------\u001b[0m",
      "\u001b[1;31mValueError\u001b[0m                                Traceback (most recent call last)",
      "\u001b[1;32mc:\\Users\\broll\\OneDrive - ZF Friedrichshafen AG\\Documents\\Programming\\MongoDB_1\\readMatFile.ipynb Cell 5'\u001b[0m in \u001b[0;36m<cell line: 7>\u001b[1;34m()\u001b[0m\n\u001b[0;32m     <a href='vscode-notebook-cell:/c%3A/Users/broll/OneDrive%20-%20ZF%20Friedrichshafen%20AG/Documents/Programming/MongoDB_1/readMatFile.ipynb#ch0000004?line=11'>12</a>\u001b[0m f_name, f_ext \u001b[39m=\u001b[39m os\u001b[39m.\u001b[39mpath\u001b[39m.\u001b[39msplitext(fn)\n\u001b[0;32m     <a href='vscode-notebook-cell:/c%3A/Users/broll/OneDrive%20-%20ZF%20Friedrichshafen%20AG/Documents/Programming/MongoDB_1/readMatFile.ipynb#ch0000004?line=12'>13</a>\u001b[0m s_FileName \u001b[39m=\u001b[39m f_name\u001b[39m.\u001b[39msplit(\u001b[39m\"\u001b[39m\u001b[39m\\\\\u001b[39;00m\u001b[39m\"\u001b[39m)[\u001b[39m-\u001b[39m\u001b[39m1\u001b[39m]\n\u001b[1;32m---> <a href='vscode-notebook-cell:/c%3A/Users/broll/OneDrive%20-%20ZF%20Friedrichshafen%20AG/Documents/Programming/MongoDB_1/readMatFile.ipynb#ch0000004?line=13'>14</a>\u001b[0m t0 \u001b[39m=\u001b[39m convertTime(s_FileName)\n\u001b[0;32m     <a href='vscode-notebook-cell:/c%3A/Users/broll/OneDrive%20-%20ZF%20Friedrichshafen%20AG/Documents/Programming/MongoDB_1/readMatFile.ipynb#ch0000004?line=14'>15</a>\u001b[0m errorMessages \u001b[39m=\u001b[39m []\n\u001b[0;32m     <a href='vscode-notebook-cell:/c%3A/Users/broll/OneDrive%20-%20ZF%20Friedrichshafen%20AG/Documents/Programming/MongoDB_1/readMatFile.ipynb#ch0000004?line=16'>17</a>\u001b[0m \u001b[39mfor\u001b[39;00m i, channel \u001b[39min\u001b[39;00m \u001b[39menumerate\u001b[39m(f\u001b[39m.\u001b[39mkeys()):\n",
      "File \u001b[1;32mc:\\Users\\broll\\OneDrive - ZF Friedrichshafen AG\\Documents\\Programming\\MongoDB_1\\InFusionTools.py:6\u001b[0m, in \u001b[0;36mconvertTime\u001b[1;34m(s_DateTime)\u001b[0m\n\u001b[0;32m      <a href='file:///c%3A/Users/broll/OneDrive%20-%20ZF%20Friedrichshafen%20AG/Documents/Programming/MongoDB_1/InFusionTools.py?line=2'>3</a>\u001b[0m \u001b[39mimport\u001b[39;00m \u001b[39mdatetime\u001b[39;00m\n\u001b[0;32m      <a href='file:///c%3A/Users/broll/OneDrive%20-%20ZF%20Friedrichshafen%20AG/Documents/Programming/MongoDB_1/InFusionTools.py?line=4'>5</a>\u001b[0m string \u001b[39m=\u001b[39m s_DateTime\n\u001b[1;32m----> <a href='file:///c%3A/Users/broll/OneDrive%20-%20ZF%20Friedrichshafen%20AG/Documents/Programming/MongoDB_1/InFusionTools.py?line=5'>6</a>\u001b[0m ret \u001b[39m=\u001b[39m time\u001b[39m.\u001b[39mmktime(datetime\u001b[39m.\u001b[39;49mdatetime\u001b[39m.\u001b[39;49mstrptime(string,\n\u001b[0;32m      <a href='file:///c%3A/Users/broll/OneDrive%20-%20ZF%20Friedrichshafen%20AG/Documents/Programming/MongoDB_1/InFusionTools.py?line=6'>7</a>\u001b[0m                                             \u001b[39m\"\u001b[39;49m\u001b[39mRekorder_\u001b[39;49m\u001b[39m%\u001b[39;49m\u001b[39mY_\u001b[39;49m\u001b[39m%\u001b[39;49m\u001b[39mm_\u001b[39;49m\u001b[39m%d\u001b[39;49;00m\u001b[39m_\u001b[39;49m\u001b[39m%\u001b[39;49m\u001b[39mH_\u001b[39;49m\u001b[39m%\u001b[39;49m\u001b[39mM_\u001b[39;49m\u001b[39m%\u001b[39;49m\u001b[39mS\u001b[39;49m\u001b[39m\"\u001b[39;49m)\u001b[39m.\u001b[39mtimetuple())\n\u001b[0;32m      <a href='file:///c%3A/Users/broll/OneDrive%20-%20ZF%20Friedrichshafen%20AG/Documents/Programming/MongoDB_1/InFusionTools.py?line=7'>8</a>\u001b[0m \u001b[39m#print(ret)\u001b[39;00m\n\u001b[0;32m      <a href='file:///c%3A/Users/broll/OneDrive%20-%20ZF%20Friedrichshafen%20AG/Documents/Programming/MongoDB_1/InFusionTools.py?line=8'>9</a>\u001b[0m \u001b[39mreturn\u001b[39;00m ret\n",
      "File \u001b[1;32m~\\AppData\\Local\\Programs\\Python\\Python310\\lib\\_strptime.py:568\u001b[0m, in \u001b[0;36m_strptime_datetime\u001b[1;34m(cls, data_string, format)\u001b[0m\n\u001b[0;32m    <a href='file:///c%3A/Users/broll/AppData/Local/Programs/Python/Python310/lib/_strptime.py?line=564'>565</a>\u001b[0m \u001b[39mdef\u001b[39;00m \u001b[39m_strptime_datetime\u001b[39m(\u001b[39mcls\u001b[39m, data_string, \u001b[39mformat\u001b[39m\u001b[39m=\u001b[39m\u001b[39m\"\u001b[39m\u001b[39m%a\u001b[39;00m\u001b[39m \u001b[39m\u001b[39m%\u001b[39m\u001b[39mb \u001b[39m\u001b[39m%d\u001b[39;00m\u001b[39m \u001b[39m\u001b[39m%\u001b[39m\u001b[39mH:\u001b[39m\u001b[39m%\u001b[39m\u001b[39mM:\u001b[39m\u001b[39m%\u001b[39m\u001b[39mS \u001b[39m\u001b[39m%\u001b[39m\u001b[39mY\u001b[39m\u001b[39m\"\u001b[39m):\n\u001b[0;32m    <a href='file:///c%3A/Users/broll/AppData/Local/Programs/Python/Python310/lib/_strptime.py?line=565'>566</a>\u001b[0m     \u001b[39m\"\"\"Return a class cls instance based on the input string and the\u001b[39;00m\n\u001b[0;32m    <a href='file:///c%3A/Users/broll/AppData/Local/Programs/Python/Python310/lib/_strptime.py?line=566'>567</a>\u001b[0m \u001b[39m    format string.\"\"\"\u001b[39;00m\n\u001b[1;32m--> <a href='file:///c%3A/Users/broll/AppData/Local/Programs/Python/Python310/lib/_strptime.py?line=567'>568</a>\u001b[0m     tt, fraction, gmtoff_fraction \u001b[39m=\u001b[39m _strptime(data_string, \u001b[39mformat\u001b[39;49m)\n\u001b[0;32m    <a href='file:///c%3A/Users/broll/AppData/Local/Programs/Python/Python310/lib/_strptime.py?line=568'>569</a>\u001b[0m     tzname, gmtoff \u001b[39m=\u001b[39m tt[\u001b[39m-\u001b[39m\u001b[39m2\u001b[39m:]\n\u001b[0;32m    <a href='file:///c%3A/Users/broll/AppData/Local/Programs/Python/Python310/lib/_strptime.py?line=569'>570</a>\u001b[0m     args \u001b[39m=\u001b[39m tt[:\u001b[39m6\u001b[39m] \u001b[39m+\u001b[39m (fraction,)\n",
      "File \u001b[1;32m~\\AppData\\Local\\Programs\\Python\\Python310\\lib\\_strptime.py:349\u001b[0m, in \u001b[0;36m_strptime\u001b[1;34m(data_string, format)\u001b[0m\n\u001b[0;32m    <a href='file:///c%3A/Users/broll/AppData/Local/Programs/Python/Python310/lib/_strptime.py?line=346'>347</a>\u001b[0m found \u001b[39m=\u001b[39m format_regex\u001b[39m.\u001b[39mmatch(data_string)\n\u001b[0;32m    <a href='file:///c%3A/Users/broll/AppData/Local/Programs/Python/Python310/lib/_strptime.py?line=347'>348</a>\u001b[0m \u001b[39mif\u001b[39;00m \u001b[39mnot\u001b[39;00m found:\n\u001b[1;32m--> <a href='file:///c%3A/Users/broll/AppData/Local/Programs/Python/Python310/lib/_strptime.py?line=348'>349</a>\u001b[0m     \u001b[39mraise\u001b[39;00m \u001b[39mValueError\u001b[39;00m(\u001b[39m\"\u001b[39m\u001b[39mtime data \u001b[39m\u001b[39m%r\u001b[39;00m\u001b[39m does not match format \u001b[39m\u001b[39m%r\u001b[39;00m\u001b[39m\"\u001b[39m \u001b[39m%\u001b[39m\n\u001b[0;32m    <a href='file:///c%3A/Users/broll/AppData/Local/Programs/Python/Python310/lib/_strptime.py?line=349'>350</a>\u001b[0m                      (data_string, \u001b[39mformat\u001b[39m))\n\u001b[0;32m    <a href='file:///c%3A/Users/broll/AppData/Local/Programs/Python/Python310/lib/_strptime.py?line=350'>351</a>\u001b[0m \u001b[39mif\u001b[39;00m \u001b[39mlen\u001b[39m(data_string) \u001b[39m!=\u001b[39m found\u001b[39m.\u001b[39mend():\n\u001b[0;32m    <a href='file:///c%3A/Users/broll/AppData/Local/Programs/Python/Python310/lib/_strptime.py?line=351'>352</a>\u001b[0m     \u001b[39mraise\u001b[39;00m \u001b[39mValueError\u001b[39;00m(\u001b[39m\"\u001b[39m\u001b[39munconverted data remains: \u001b[39m\u001b[39m%s\u001b[39;00m\u001b[39m\"\u001b[39m \u001b[39m%\u001b[39m\n\u001b[0;32m    <a href='file:///c%3A/Users/broll/AppData/Local/Programs/Python/Python310/lib/_strptime.py?line=352'>353</a>\u001b[0m                       data_string[found\u001b[39m.\u001b[39mend():])\n",
      "\u001b[1;31mValueError\u001b[0m: time data 'Recorder_2021_08_02_08_14_23' does not match format 'Rekorder_%Y_%m_%d_%H_%M_%S'"
     ]
    }
   ],
   "source": [
    "#folderName = r\"C:\\Users\\broll\\ZF Friedrichshafen AG\\33658 InFusion - Documents\\Grunddatenerhebung\\07 Winterversuche\\Data\\Extracted\"\n",
    "folderName = r\"C:\\Users\\broll\\ZF Friedrichshafen AG\\33658 InFusion - Documents\\Grunddatenerhebung\\04 Data\\20210802\\extracted\"\n",
    "\n",
    "l_fileNames = os.listdir(folderName)\n",
    "convertChannelWL = []\n",
    "convertMessagesWL = []\n",
    "for fileName in l_fileNames:\n",
    "    print(\"Loading: \", fileName)\n",
    "    fn = os.path.join(folderName, fileName)\n",
    "    f = loadmat(fn)\n",
    "\n",
    "    f_name, f_ext = os.path.splitext(fn)\n",
    "    s_FileName = f_name.split(\"\\\\\")[-1]\n",
    "    t0 = convertTime(s_FileName)\n",
    "    errorMessages = []\n",
    "\n",
    "    for i, channel in enumerate(f.keys()):\n",
    "        if convertChannelWL and not channel in convertChannelWL:\n",
    "            continue\n",
    "        #print(\"#1\", channel)\n",
    "        if channel in [\"__header__\", \"__version__\", \"__globals__\"]:\n",
    "            #print(\"#2\", channel)\n",
    "            continue\n",
    "        #print(\"#3\", channel)\n",
    "        for ii, message in enumerate(f[channel][0][0].dtype.fields.keys()):\n",
    "            if convertMessagesWL and not message in convertMessagesWL:\n",
    "                continue\n",
    "            # TODO: Fix Failing messages:\n",
    "            if message == \"FMS\": \n",
    "                continue\n",
    "            #print(\"#4\", ii, message)\n",
    "            if message == \"SoundAI\": #SoundAI is a single Sensor and does not have multiple signals\n",
    "                l_timeStamps, l_values = [list(x) for x in zip(*f[channel][0][0][message])]\n",
    "                l_signalNames = [\"SoundAI\"]\n",
    "            else:\n",
    "                l_signalNames = []\n",
    "                l_values = []\n",
    "                for iii, signal in enumerate(f[channel][0][0][message].dtype.fields.keys()):\n",
    "                    # get two lists, first containing the names of signals as string [<signal1>, <signal2>, ...] \n",
    "                    #   second containing [[timestamps (as ID)], [<signal1_values>], [<signal2_values>], ...]\n",
    "                    l_signalNames.append(signal)\n",
    "                    if iii == 0: # extract timestamps once, as they are the same for all signals in a message\n",
    "                        l_timeStamps, temp = [list(x) for x in zip(*f[channel][0][0][message][signal][0][0])]\n",
    "                        l_values.append(temp)\n",
    "                    else:\n",
    "                        #print(\"#5\", iii, signal)\n",
    "                        _, temp = [list(x) for x in zip(*f[channel][0][0][message][signal][0][0])]\n",
    "                        l_values.append(temp)\n",
    "                \n",
    "            # combine timestamps from measurement with start time of measurement to create identifier in database\n",
    "            l_timeStamps = [np.round((t0 + td) * 100000) for td in l_timeStamps]\n",
    "            collist = db.list_collection_names()\n",
    "            if message in collist:\n",
    "                #print(\"The collection exists.\")\n",
    "                col = db[message]\n",
    "            else: \n",
    "                col = db[message]\n",
    "            \n",
    "            for iv in range(len(l_timeStamps)):\n",
    "                upload = {\"_id\": l_timeStamps[iv]}\n",
    "                if message == \"SoundAI\":\n",
    "                    sig = \"SoundAI\"\n",
    "                    upload.update({sig: l_values[iv]})\n",
    "                else:\n",
    "                    for v, sig in enumerate(l_signalNames):\n",
    "                        #print(\"#6\", sig)\n",
    "                        try:\n",
    "                            upload.update({sig: l_values[v][iv]})\n",
    "                        except:\n",
    "                            if not message in errorMessages:\n",
    "                                errorMessages.append(message)\n",
    "                                print(\"E1: An exception occurred\", channel, message,  sig, v, iv)\n",
    "                try:\n",
    "                    col.insert_one( upload )\n",
    "                except:\n",
    "                    if not message in errorMessages:\n",
    "                        errorMessages.append(message)\n",
    "                        print(\"E2: An exception occurred\", channel, message,  sig, v, iv)\n",
    "                #print(\"done\")\n",
    "        "
   ]
  }
 ],
 "metadata": {
  "interpreter": {
   "hash": "d06e63a7861b3c8743ae71dd184ea72022cc2e9602d1c78c2128b82997df0244"
  },
  "kernelspec": {
   "display_name": "Python 3.10.2 64-bit",
   "language": "python",
   "name": "python3"
  },
  "language_info": {
   "codemirror_mode": {
    "name": "ipython",
    "version": 3
   },
   "file_extension": ".py",
   "mimetype": "text/x-python",
   "name": "python",
   "nbconvert_exporter": "python",
   "pygments_lexer": "ipython3",
   "version": "3.10.2"
  },
  "orig_nbformat": 4
 },
 "nbformat": 4,
 "nbformat_minor": 2
}

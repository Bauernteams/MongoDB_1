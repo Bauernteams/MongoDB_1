{
 "cells": [
  {
   "cell_type": "code",
   "execution_count": null,
   "metadata": {},
   "outputs": [],
   "source": [
    "from mongoTools import connectMongoDB\n",
    "from scipy.io import loadmat\n",
    "from InFusionTools import convertTime\n",
    "from os import path\n",
    "import pandas as pd"
   ]
  },
  {
   "cell_type": "code",
   "execution_count": null,
   "metadata": {},
   "outputs": [],
   "source": [
    "db = connectMongoDB()"
   ]
  },
  {
   "cell_type": "code",
   "execution_count": null,
   "metadata": {},
   "outputs": [],
   "source": [
    "s_fileName = r\"Recorder_2021_08_02_08_44_43.mat\"\n",
    "s_folderPath = r\"sharedData\"\n",
    "s_filePath = path.join(s_folderPath, s_fileName)\n",
    "matFile = loadmat(s_filePath)"
   ]
  },
  {
   "cell_type": "code",
   "execution_count": null,
   "metadata": {},
   "outputs": [],
   "source": [
    "starttime = convertTime(s_fileName.split(\".\")[0]) * 100000\n",
    "print(starttime)"
   ]
  },
  {
   "cell_type": "code",
   "execution_count": null,
   "metadata": {},
   "outputs": [],
   "source": [
    "message = \"CCVS1\"\n",
    "signal = \"WheelBasedVehicleSpeed\"\n",
    "df = pd.DataFrame(list(db[message].find({\"_id\": {\"$gt\": starttime}})))\n",
    "df[signal].plot()"
   ]
  },
  {
   "cell_type": "code",
   "execution_count": 25,
   "metadata": {},
   "outputs": [
    {
     "name": "stdout",
     "output_type": "stream",
     "text": [
      "162788668315172.97 315172.96875\n",
      "1140.5 329270.25\n",
      "1115.34375 379259.625\n",
      "1132.5625 479261.625\n",
      "1121.84375 600276.46875\n",
      "1146.1875 629274.03125\n",
      "1131.6875 679259.46875\n",
      "1142.96875 779270.46875\n",
      "1116.125 879256.84375\n",
      "1114.09375 929243.875\n",
      "1137.71875 979265.21875\n",
      "1131.46875 1000278.15625\n",
      "1113.25 1029240.40625\n",
      "1137.0625 1100275.71875\n",
      "1132.53125 1129260.125\n"
     ]
    }
   ],
   "source": [
    "delta = 0\n",
    "lastID = 0\n",
    "for id in db[\"VDC2\"].find({}, {\"_id\"}).sort(\"_id\", 1):\n",
    "    id = id[\"_id\"]\n",
    "    delta = id-lastID\n",
    "    lastID = id\n",
    "    if delta>1100:\n",
    "        print(delta, id - 162788668000000)\n",
    "        \n",
    "        "
   ]
  }
 ],
 "metadata": {
  "interpreter": {
   "hash": "d06e63a7861b3c8743ae71dd184ea72022cc2e9602d1c78c2128b82997df0244"
  },
  "kernelspec": {
   "display_name": "Python 3.10.2 64-bit",
   "language": "python",
   "name": "python3"
  },
  "language_info": {
   "codemirror_mode": {
    "name": "ipython",
    "version": 3
   },
   "file_extension": ".py",
   "mimetype": "text/x-python",
   "name": "python",
   "nbconvert_exporter": "python",
   "pygments_lexer": "ipython3",
   "version": "3.9.10"
  },
  "orig_nbformat": 4
 },
 "nbformat": 4,
 "nbformat_minor": 2
}
